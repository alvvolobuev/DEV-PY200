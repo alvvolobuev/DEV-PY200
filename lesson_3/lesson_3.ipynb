{
  "nbformat": 4,
  "nbformat_minor": 0,
  "metadata": {
    "colab": {
      "name": "lesson_3.ipynb",
      "provenance": [],
      "collapsed_sections": [
        "yX_1BfiG6N_J",
        "Nrc2zPE8PHds",
        "UUDveO5sPU2P",
        "xPcelPIBQ35V",
        "2LIBYeAj6UJI",
        "-HBIQa-l7fie",
        "qsd3rF-evEb4",
        "XmmTxyLXwK25",
        "acrfbZ3jyANg",
        "XDI1f_wK4PVU",
        "oLvy_opY-8Zk",
        "MCdL4JfoAVcs",
        "BH3BxATUAeOp",
        "CW4x-M6xA_jy",
        "bZwxt_4-D4CJ",
        "ORr5Y8ClEf2U"
      ],
      "toc_visible": true,
      "authorship_tag": "ABX9TyNbdQtnIB64Av5sjujxNp8F",
      "include_colab_link": true
    },
    "kernelspec": {
      "name": "python3",
      "display_name": "Python 3"
    }
  },
  "cells": [
    {
      "cell_type": "markdown",
      "metadata": {
        "id": "view-in-github",
        "colab_type": "text"
      },
      "source": [
        "<a href=\"https://colab.research.google.com/github/aeksei/PY200_Spring_2021/blob/master/lesson_3/lesson_3.ipynb\" target=\"_parent\"><img src=\"https://colab.research.google.com/assets/colab-badge.svg\" alt=\"Open In Colab\"/></a>"
      ]
    },
    {
      "cell_type": "markdown",
      "metadata": {
        "id": "3-3drAGTF-ab"
      },
      "source": [
        "На прошлом занятии мы изучили технические особенности внутренней организации классов в Python. Атрибуты и методы объектов и классов, статичсекие методы и свойства.  \n",
        "\n",
        "Абстракция — отделение концепции от ее экземпляра."
      ]
    },
    {
      "cell_type": "markdown",
      "metadata": {
        "id": "kVhcYo8yDz6j"
      },
      "source": [
        "Парадигма ООП держится на трех столпах:\n",
        "- **Инкапсуляция** — упаковка данных и методов для их обработки вместе, т. е. в классе. И при необходимости разграничения доступа к ним.\n",
        "- **Наследование** — способность объекта или класса базироваться на другом объекте или классе. Это главный механизм для повторного использования кода.\n",
        "- **Полиморфизм** — реализация задач одной и той же идеи разными способами.\n",
        "\n"
      ]
    },
    {
      "cell_type": "markdown",
      "metadata": {
        "id": "yX_1BfiG6N_J"
      },
      "source": [
        "# Объектно-ориентированное программирование (ООП) на языке Python. Инкапсуляция"
      ]
    },
    {
      "cell_type": "markdown",
      "metadata": {
        "id": "Pc2lZUoZH8dY"
      },
      "source": [
        "**Инкапсуляция** — упаковка данных и методов для их обработки вместе, т. е. в классе. И при необходимости разграничения доступа к ним."
      ]
    },
    {
      "cell_type": "markdown",
      "metadata": {
        "id": "G1sKmof5HHYO"
      },
      "source": [
        "В Python инкапсуляция реализуется как на уровне классов, так и объектов. (см. [Атрибуты и методы](https://colab.research.google.com/drive/1VsZ2IQCsVY2TCw6hp1CVQ3z3MrVXW7zb#scrollTo=Rgq0ljPKDazM))"
      ]
    },
    {
      "cell_type": "markdown",
      "metadata": {
        "id": "mp6sP_XGIgyC"
      },
      "source": [
        "Например, если надо проверять присваиваемое полю значение на корректность, то делать это каждый раз в основном коде программы будет неправильным. \n",
        "```python\n",
        "class Date:\n",
        "    def __init__(self, day: int):\n",
        "        if not isinstance(day, int):  # нужна проверка на int\n",
        "            raise TypeError()\n",
        "        self.day = day\n",
        "\n",
        "\n",
        "date = Date(28)\n",
        "new_date = 26\n",
        "if isinstance(day, int) and 0 < new_date <= 31:  # проверка даты вне класса\n",
        "    date.day = new_date \n",
        "\n",
        "try:  # проверка сложения дат лежит вне класса - плохо :(\n",
        "    date.day += 5\n",
        "except TypeError:\n",
        "    ...\n",
        "```"
      ]
    },
    {
      "cell_type": "markdown",
      "metadata": {
        "id": "pF_EIY9yK9ot"
      },
      "source": [
        "Проверочный код должен быть помещен в метод, который получает данные для присвоения полю.   \n",
        "\n",
        "А само поле должно быть **закрыто** для доступа из вне класса. В этом случае ему невозможно будет присвоить недопустимое значение."
      ]
    },
    {
      "cell_type": "markdown",
      "metadata": {
        "id": "Nrc2zPE8PHds"
      },
      "source": [
        "## Реализация инкапсуляции в Python"
      ]
    },
    {
      "cell_type": "markdown",
      "metadata": {
        "id": "7tXgBf5RLilc"
      },
      "source": [
        "В Python нет 100% возможности закрыть доступ к атрибутам и методам из вне, хотя существует способ ее имитировать."
      ]
    },
    {
      "cell_type": "markdown",
      "metadata": {
        "id": "CByYA_sEMS42"
      },
      "source": [
        "Пользователю вашего кода необходимо **объяснить**, что нельзя напрямую обращаться с некоторым атрибутам и методам вашего класса. \n",
        "\n",
        "Делается это приставкой **двух нижних подчеркивания** перед названием атрибута."
      ]
    },
    {
      "cell_type": "code",
      "metadata": {
        "id": "p2iyTB8YMSa5"
      },
      "source": [
        "class Date:\n",
        "    def __init__(self, day: int, month: int):\n",
        "        self.day = day  # публичный атрибут\n",
        "        self.__month = month  # непубличный атрибут, потому что перед названием стоят два нижних подчеркивания \n",
        "\n",
        "date = Date(day=10, month=20)"
      ],
      "execution_count": 1,
      "outputs": []
    },
    {
      "cell_type": "code",
      "metadata": {
        "id": "erSaHa0eIVRK",
        "colab": {
          "base_uri": "https://localhost:8080/"
        },
        "outputId": "c0f1d09b-ad28-4adc-902e-644ef20abae1"
      },
      "source": [
        "print(date.day)  # 10"
      ],
      "execution_count": 2,
      "outputs": [
        {
          "output_type": "stream",
          "text": [
            "10\n"
          ],
          "name": "stdout"
        }
      ]
    },
    {
      "cell_type": "code",
      "metadata": {
        "id": "f2duzo-cNgkR",
        "colab": {
          "base_uri": "https://localhost:8080/",
          "height": 164
        },
        "outputId": "105fbedb-f450-462d-c35f-37178e9d2ce5"
      },
      "source": [
        "print(date.month)  # AttributeError"
      ],
      "execution_count": 3,
      "outputs": [
        {
          "output_type": "error",
          "ename": "AttributeError",
          "evalue": "ignored",
          "traceback": [
            "\u001b[0;31m---------------------------------------------------------------------------\u001b[0m",
            "\u001b[0;31mAttributeError\u001b[0m                            Traceback (most recent call last)",
            "\u001b[0;32m<ipython-input-3-dec3936b30b1>\u001b[0m in \u001b[0;36m<module>\u001b[0;34m()\u001b[0m\n\u001b[0;32m----> 1\u001b[0;31m \u001b[0mprint\u001b[0m\u001b[0;34m(\u001b[0m\u001b[0mdate\u001b[0m\u001b[0;34m.\u001b[0m\u001b[0mmonth\u001b[0m\u001b[0;34m)\u001b[0m  \u001b[0;31m# AttributeError\u001b[0m\u001b[0;34m\u001b[0m\u001b[0;34m\u001b[0m\u001b[0m\n\u001b[0m",
            "\u001b[0;31mAttributeError\u001b[0m: 'Date' object has no attribute 'month'"
          ]
        }
      ]
    },
    {
      "cell_type": "code",
      "metadata": {
        "id": "EvgMjDA0Nntw",
        "colab": {
          "base_uri": "https://localhost:8080/",
          "height": 164
        },
        "outputId": "3b368b73-2f8c-4542-e119-c674b42cb76c"
      },
      "source": [
        "print(date.__month)  # AttributeError"
      ],
      "execution_count": 4,
      "outputs": [
        {
          "output_type": "error",
          "ename": "AttributeError",
          "evalue": "ignored",
          "traceback": [
            "\u001b[0;31m---------------------------------------------------------------------------\u001b[0m",
            "\u001b[0;31mAttributeError\u001b[0m                            Traceback (most recent call last)",
            "\u001b[0;32m<ipython-input-4-dcc7dc70cb6c>\u001b[0m in \u001b[0;36m<module>\u001b[0;34m()\u001b[0m\n\u001b[0;32m----> 1\u001b[0;31m \u001b[0mprint\u001b[0m\u001b[0;34m(\u001b[0m\u001b[0mdate\u001b[0m\u001b[0;34m.\u001b[0m\u001b[0m__month\u001b[0m\u001b[0;34m)\u001b[0m  \u001b[0;31m# AttributeError\u001b[0m\u001b[0;34m\u001b[0m\u001b[0;34m\u001b[0m\u001b[0m\n\u001b[0m",
            "\u001b[0;31mAttributeError\u001b[0m: 'Date' object has no attribute '__month'"
          ]
        }
      ]
    },
    {
      "cell_type": "markdown",
      "metadata": {
        "id": "BWsQKHWxNnS_"
      },
      "source": [
        "При получении доступа **вне класса** к атрибуту **`__month`** будет сгенерировано исключение `AttributeError`."
      ]
    },
    {
      "cell_type": "code",
      "metadata": {
        "id": "Gh6BEV3GO0g-",
        "colab": {
          "base_uri": "https://localhost:8080/"
        },
        "outputId": "3822504f-a93e-4b10-a33b-774621472b11"
      },
      "source": [
        "# ещё раз реализуем класса Date, вспомним свойства с учетом инкапсуляции\n",
        "# date - read only\n",
        "class Date:\n",
        "    def __init__(self, day: int, month: int):\n",
        "        self.__day = day  # публичный атрибут\n",
        "        self.__month = month  # непубличный атрибут, потому что перед названием стоят два нижних подчеркивания \n",
        "\n",
        "    @property\n",
        "    def day(self):\n",
        "        return self.__day\n",
        "\n",
        "    @day.setter\n",
        "    def day(self, value):\n",
        "        self.is_valid_date()\n",
        "        self.__day = value\n",
        "\n",
        "    @property\n",
        "    def date(self):\n",
        "        return f\"{self.__day}-{self.__month}\"\n",
        "\n",
        "\n",
        "    def is_valid_date(self, day: int, month: int):\n",
        "        ...\n",
        "\n",
        "\n",
        "date = Date(day=10, month=20)\n",
        "print(date.date)"
      ],
      "execution_count": 12,
      "outputs": [
        {
          "output_type": "stream",
          "text": [
            "10-20\n"
          ],
          "name": "stdout"
        }
      ]
    },
    {
      "cell_type": "code",
      "metadata": {
        "colab": {
          "base_uri": "https://localhost:8080/"
        },
        "id": "v6jpDV_HUxxD",
        "outputId": "dffa6f38-4151-44f8-ac78-5f34cd1d76e0"
      },
      "source": [
        "date.day = "
      ],
      "execution_count": 11,
      "outputs": [
        {
          "output_type": "execute_result",
          "data": {
            "text/plain": [
              "10"
            ]
          },
          "metadata": {
            "tags": []
          },
          "execution_count": 11
        }
      ]
    },
    {
      "cell_type": "code",
      "metadata": {
        "colab": {
          "base_uri": "https://localhost:8080/"
        },
        "id": "HaGXtZCfU0CC",
        "outputId": "3118282c-448c-4832-8575-2764f0938849"
      },
      "source": [
        "date.month "
      ],
      "execution_count": 9,
      "outputs": [
        {
          "output_type": "execute_result",
          "data": {
            "text/plain": [
              "20"
            ]
          },
          "metadata": {
            "tags": []
          },
          "execution_count": 9
        }
      ]
    },
    {
      "cell_type": "markdown",
      "metadata": {
        "id": "UUDveO5sPU2P"
      },
      "source": [
        "### Нельзя, но если очень хочется, то можно ..."
      ]
    },
    {
      "cell_type": "code",
      "metadata": {
        "id": "Xm9bzju_Pya-"
      },
      "source": [
        "class Date:\n",
        "    def __init__(self, day: int, month: int):\n",
        "        self.day = day  # публичный атрибут\n",
        "        self.__month = month  # непубличный атрибут, потому что перед названием стоят два нижних подчеркивания \n",
        "\n",
        "date = Date(day=10, month=20)"
      ],
      "execution_count": 14,
      "outputs": []
    },
    {
      "cell_type": "code",
      "metadata": {
        "id": "dZ-qU0exP1SC",
        "colab": {
          "base_uri": "https://localhost:8080/"
        },
        "outputId": "4e885b0d-80e1-4d1d-d79d-8fab4472c256"
      },
      "source": [
        "print(date.__dict__)"
      ],
      "execution_count": 15,
      "outputs": [
        {
          "output_type": "stream",
          "text": [
            "{'day': 10, '_Date__month': 20}\n"
          ],
          "name": "stdout"
        }
      ]
    },
    {
      "cell_type": "markdown",
      "metadata": {
        "id": "DYI-RVoQP715"
      },
      "source": [
        "Интерпретатор переименовал атрибут\n",
        "**`__month`** следующим образом:  \n",
        "\n",
        "***_Имя класса__название атрибута***"
      ]
    },
    {
      "cell_type": "code",
      "metadata": {
        "id": "NR8XrEiBQGjF",
        "colab": {
          "base_uri": "https://localhost:8080/"
        },
        "outputId": "f93ab528-5d59-45fc-db1a-3aba97d44b92"
      },
      "source": [
        "print(date._Date__month)"
      ],
      "execution_count": 16,
      "outputs": [
        {
          "output_type": "stream",
          "text": [
            "20\n"
          ],
          "name": "stdout"
        }
      ]
    },
    {
      "cell_type": "code",
      "metadata": {
        "id": "B3afCEWgQMqU",
        "colab": {
          "base_uri": "https://localhost:8080/"
        },
        "outputId": "c3fde86d-ac8f-44f4-f478-6a72ccbdfd02"
      },
      "source": [
        "date._Date__month = 500\n",
        "print(date._Date__month)"
      ],
      "execution_count": 17,
      "outputs": [
        {
          "output_type": "stream",
          "text": [
            "500\n"
          ],
          "name": "stdout"
        }
      ]
    },
    {
      "cell_type": "markdown",
      "metadata": {
        "id": "xPcelPIBQ35V"
      },
      "source": [
        "### Выводы"
      ]
    },
    {
      "cell_type": "markdown",
      "metadata": {
        "id": "FRetcztmQ75b"
      },
      "source": [
        "1. В языке Python к непубличным переменным доступ разрешён.\n",
        "1. В языке Python Вы в любом случаем сможете изменить непубличные атрибуты.\n",
        "1. В языке Python вы просто **предоставляете информацию** пользователю разработанного Вами класса, что данный **атрибут предназначен только для внутренней инфраструктуры класса**.\n",
        "1. Вы не гарантируете, что непубличные атрибуты могут измениться в следующей версии вашего кода.\n",
        "1. Инкапсулируйте все, что может изменяться."
      ]
    },
    {
      "cell_type": "markdown",
      "metadata": {
        "id": "2LIBYeAj6UJI"
      },
      "source": [
        "# Объектно-ориентированное программирование (ООП) на языке Python. Наследование"
      ]
    },
    {
      "cell_type": "markdown",
      "metadata": {
        "id": "PWT69mpjmEsB"
      },
      "source": [
        "**Наследование** — способность объекта или класса базироваться на другом объекте или классе. Это главный механизм для повторного использования кода."
      ]
    },
    {
      "cell_type": "markdown",
      "metadata": {
        "id": "RGf_JkVhmqJ4"
      },
      "source": [
        "Так или иначе мы уже сталкивались с ним, ведь **объекты наследуют атрибуты своих классов**."
      ]
    },
    {
      "cell_type": "code",
      "metadata": {
        "id": "uRtjVthfmr5E"
      },
      "source": [
        "class Date:\n",
        "    DAY_OF_MONTH = (\n",
        "        (31, 28, 31, 30, 31, 30, 31, 31, 30, 31, 30, 31),  # обычный год\n",
        "        (31, 29, 31, 30, 31, 30, 31, 31, 30, 31, 30, 31)  # високосный\n",
        "    )\n",
        "\n",
        "    def print_day_of_month(self):\n",
        "        print(self.DAY_OF_MONTH)\n",
        "\n",
        "\n",
        "date = Date()\n",
        "date.print_day_of_month()"
      ],
      "execution_count": null,
      "outputs": []
    },
    {
      "cell_type": "markdown",
      "metadata": {
        "id": "gH3QDTiFnaaQ"
      },
      "source": [
        "Однако обычно под наследованием в ООП понимается **наличие классов и подклассов**."
      ]
    },
    {
      "cell_type": "markdown",
      "metadata": {
        "id": "5cdOccJUnUiN"
      },
      "source": [
        "![image.png](data:image/png;base64,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)"
      ]
    },
    {
      "cell_type": "markdown",
      "metadata": {
        "id": "4XCdVpZsnl_X"
      },
      "source": [
        "***Синтаксис наследования:***\n",
        "```python\n",
        "class НазваниеПодкласса(БазовыйКласс):\n",
        "    ...\n",
        "```\n",
        "```python\n",
        "class Figure:\n",
        "    ...\n",
        "class Rectangle(Figure):\n",
        "    ...\n",
        "class Triangle(Figure):\n",
        "    ...\n",
        "class Ellipse(Figure):\n",
        "    ...\n",
        "```\n",
        "Класс **`Figure`** называют базовым по отношению к классам **`Rectangle`**, **`Triangle`** или **`Ellipse`**.\n",
        "\n",
        "Классы **`Rectangle`**, **`Triangle`** или **`Ellipse`** называют целевым."
      ]
    },
    {
      "cell_type": "markdown",
      "metadata": {
        "id": "NG3bxY6cuD9M"
      },
      "source": [
        "Различают одиночное и множественное наследование. Мы сегодня будем говорить про одиночное наследование."
      ]
    },
    {
      "cell_type": "markdown",
      "metadata": {
        "id": "-HBIQa-l7fie"
      },
      "source": [
        "## Методы при наследовании"
      ]
    },
    {
      "cell_type": "markdown",
      "metadata": {
        "id": "_uoTSYPE7rBt"
      },
      "source": [
        "Наследование - это главный механизм для **повторного использования кода**.  \n",
        "\n",
        "Если нам не нужно изменять поведение метода в дочернем классе, то можно воспользоваться реализацией родителя."
      ]
    },
    {
      "cell_type": "code",
      "metadata": {
        "id": "tmZzqN3J790O"
      },
      "source": [
        "class Figure:  # базовый класс\n",
        "    def __init__(self, name):\n",
        "        self.name = name\n",
        "\n",
        "    def print_name(self):\n",
        "        print(\"print_name вызвана из родительского класса\")\n",
        "        print(self.name)\n",
        "\n",
        "class Rectangle(Figure):\n",
        "    def __init__(self, a, b, name):\n",
        "        self.a = a\n",
        "        self.b = b\n",
        "        self.name = name  # плохо :( повторно определяем name, дальше узнаем как от этого избавиться\n",
        "\n",
        "\n",
        "rect = Rectangle(5, 10, 'rect_fig')"
      ],
      "execution_count": 26,
      "outputs": []
    },
    {
      "cell_type": "code",
      "metadata": {
        "id": "WIxE1vcK8aZ4",
        "colab": {
          "base_uri": "https://localhost:8080/"
        },
        "outputId": "5fdc614e-66c9-4c7d-e370-5cd37f12ec53"
      },
      "source": [
        "# не нужно повторно определять метод print_name, его реализация берется из родительского класса\n",
        "rect.print_name()"
      ],
      "execution_count": 27,
      "outputs": [
        {
          "output_type": "stream",
          "text": [
            "print_name вызвана из экземпляра класса\n",
            "rect_fig !!!\n"
          ],
          "name": "stdout"
        }
      ]
    },
    {
      "cell_type": "markdown",
      "metadata": {
        "id": "guD9Tnh884MY"
      },
      "source": [
        "Поиск методов идет по цепочке ничиная с дочернего класса и поднимаясь по всем классам от которых наследовались.\n",
        "\n",
        "Если добрались до самого базового класса и метод не найден, будет ошибка."
      ]
    },
    {
      "cell_type": "markdown",
      "metadata": {
        "id": "qsd3rF-evEb4"
      },
      "source": [
        "## Одиночное наследование, инициализация класса родителя (базового класса)"
      ]
    },
    {
      "cell_type": "code",
      "metadata": {
        "id": "r1dgjzE0nio3"
      },
      "source": [
        "class Figure:\n",
        "    def __init__(self):\n",
        "        print(f'Вызван конструктор базового класса {self.__class__.__name__}')\n",
        "\n",
        "class Rectangle(Figure):\n",
        "    # __init__ определен\n",
        "    def __init__(self, a, b):\n",
        "        print(f'Вызван конструктор класса {self.__class__.__name__}')\n",
        "\n",
        "class Triangle(Figure):\n",
        "    # __init__ не определен\n",
        "    ..."
      ],
      "execution_count": 29,
      "outputs": []
    },
    {
      "cell_type": "code",
      "metadata": {
        "id": "A7KNS5aewEOd",
        "colab": {
          "base_uri": "https://localhost:8080/"
        },
        "outputId": "c0396b72-4204-4a58-a596-1a254ff80b55"
      },
      "source": [
        "rectangle = Rectangle(5, 10) # Figure.__init__ не будет вызван"
      ],
      "execution_count": 32,
      "outputs": [
        {
          "output_type": "stream",
          "text": [
            "Вызван конструктор класса Rectangle\n"
          ],
          "name": "stdout"
        }
      ]
    },
    {
      "cell_type": "code",
      "metadata": {
        "id": "v-Dht85QwBMX",
        "colab": {
          "base_uri": "https://localhost:8080/"
        },
        "outputId": "a7691940-10ff-4e22-dcb3-50a2fa422b9f"
      },
      "source": [
        "triangle = Triangle() # Figure.__init__ будет вызван"
      ],
      "execution_count": 33,
      "outputs": [
        {
          "output_type": "stream",
          "text": [
            "Вызван конструктор базового класса Triangle\n"
          ],
          "name": "stdout"
        }
      ]
    },
    {
      "cell_type": "markdown",
      "metadata": {
        "id": "vrqvV00Evt5L"
      },
      "source": [
        "Правила вызова инициализатора базового класса\n",
        "1. Если метод `__init__` в производном классе не определён, то автоматически вызывается метод `__init__` базового класса.\n",
        "2. Если метод `__init__` в производном классе определён, то метод `__init__` базового класса автоматически не вызывается."
      ]
    },
    {
      "cell_type": "markdown",
      "metadata": {
        "id": "XmmTxyLXwK25"
      },
      "source": [
        "## Одиночное наследование, вызов инициализатора родительского класса без аргументов"
      ]
    },
    {
      "cell_type": "markdown",
      "metadata": {
        "id": "z3-cXo4qwT4S"
      },
      "source": [
        "А если в дочернем классе, после переопределения метода **`__init__`** все равно необходимо вызвать конструктор базового класса?\n",
        "\n",
        "В таком случае необходимо воспользоваться встроенной функцией **`super()`**. \n",
        "\n",
        "**`super()`** эквивалентно переменной `cls`, только на родительский класс."
      ]
    },
    {
      "cell_type": "code",
      "metadata": {
        "id": "00Rd7lKTxA1b"
      },
      "source": [
        "class Figure:\n",
        "    def __init__(self):\n",
        "        print(f'Вызван конструктор базового класса {self.__class__.__name__}')\n",
        "\n",
        "class Rectangle(Figure):\n",
        "    # __init__ определен\n",
        "    def __init__(self, a, b):\n",
        "        super().__init__()\n",
        "        print(f'Вызван конструктор класса {self.__class__.__name__}')\n",
        "\n",
        "class Triangle(Figure):\n",
        "    # __init__ не определен\n",
        "    ..."
      ],
      "execution_count": 36,
      "outputs": []
    },
    {
      "cell_type": "code",
      "metadata": {
        "colab": {
          "base_uri": "https://localhost:8080/"
        },
        "id": "yZizo1cGd97e",
        "outputId": "1cc88db6-7b16-4b99-f3bd-c770f04fe0c1"
      },
      "source": [
        "fig = Figure()"
      ],
      "execution_count": 37,
      "outputs": [
        {
          "output_type": "stream",
          "text": [
            "Вызван конструктор базового класса Figure\n"
          ],
          "name": "stdout"
        }
      ]
    },
    {
      "cell_type": "code",
      "metadata": {
        "colab": {
          "base_uri": "https://localhost:8080/"
        },
        "id": "iq8ts_caeBIS",
        "outputId": "a2a114ca-9987-4686-d7d6-b5c3d1f9bc18"
      },
      "source": [
        "rect = Rectangle(5, 10)"
      ],
      "execution_count": 38,
      "outputs": [
        {
          "output_type": "stream",
          "text": [
            "Вызван конструктор базового класса Rectangle\n",
            "Вызван конструктор класса Rectangle\n"
          ],
          "name": "stdout"
        }
      ]
    },
    {
      "cell_type": "markdown",
      "metadata": {
        "id": "acrfbZ3jyANg"
      },
      "source": [
        "## Публичные атрибуты. Вызов инициализатора родительского класса с передачей аргументов\n",
        "\n"
      ]
    },
    {
      "cell_type": "code",
      "metadata": {
        "id": "rk53k6kN0rJx"
      },
      "source": [
        "class Figure:\n",
        "    def __init__(self, name=None):\n",
        "        self.name = name\n",
        "\n",
        "    def print_name(self):\n",
        "        print(self.name)\n",
        "\n",
        "fig = Figure('base_figure')"
      ],
      "execution_count": 39,
      "outputs": []
    },
    {
      "cell_type": "code",
      "metadata": {
        "id": "4oNzA48B06Xq",
        "colab": {
          "base_uri": "https://localhost:8080/"
        },
        "outputId": "cdaa4b43-88cb-45fc-b240-bb691c43f84e"
      },
      "source": [
        "fig.print_name()"
      ],
      "execution_count": 40,
      "outputs": [
        {
          "output_type": "stream",
          "text": [
            "base_figure\n"
          ],
          "name": "stdout"
        }
      ]
    },
    {
      "cell_type": "code",
      "metadata": {
        "id": "aJvQ5YBj1FE8"
      },
      "source": [
        "class Rectangle(Figure):\n",
        "    def __init__(self, a, b, name1=None):\n",
        "        super().__init__(name=name1)\n",
        "        self.a = a\n",
        "        self.b = b\n",
        "\n",
        "rect = Rectangle(5, 10, 'rect_fig')"
      ],
      "execution_count": 46,
      "outputs": []
    },
    {
      "cell_type": "code",
      "metadata": {
        "id": "jyoKXMEC1W01",
        "colab": {
          "base_uri": "https://localhost:8080/"
        },
        "outputId": "4663b553-525c-4fb4-fd72-3a9bf5eb4853"
      },
      "source": [
        "rect.print_name()"
      ],
      "execution_count": 47,
      "outputs": [
        {
          "output_type": "stream",
          "text": [
            "rect_fig\n"
          ],
          "name": "stdout"
        }
      ]
    },
    {
      "cell_type": "code",
      "metadata": {
        "id": "iaTMPYOR1k0L",
        "colab": {
          "base_uri": "https://localhost:8080/"
        },
        "outputId": "8ee45eae-e129-44c4-fbca-0fe9d5d12456"
      },
      "source": [
        "rect.__dict__"
      ],
      "execution_count": 48,
      "outputs": [
        {
          "output_type": "execute_result",
          "data": {
            "text/plain": [
              "{'a': 5, 'b': 10, 'name': 'rect_fig'}"
            ]
          },
          "metadata": {
            "tags": []
          },
          "execution_count": 48
        }
      ]
    },
    {
      "cell_type": "markdown",
      "metadata": {
        "id": "EIUg410n0nps"
      },
      "source": [
        "Не важно с какими атрибутами вы работаете c публичными или не публичными. Всегда лучше вызывать конструктор базового класса, чтобы верно проинициализировать ваш объект после наследования.\n",
        "\n",
        "Вы не знаете, что скрыто в конструкторе базового класса и какие действия там выполняются. Даже если и знаете, **то не нужно их повторно воспроизводить**!! Вызывайте конструктор базового класса!\n",
        "\n"
      ]
    },
    {
      "cell_type": "markdown",
      "metadata": {
        "id": "XDI1f_wK4PVU"
      },
      "source": [
        "## Не публичные атрибуты при наследовании."
      ]
    },
    {
      "cell_type": "code",
      "metadata": {
        "id": "phUv8O3B4OhP"
      },
      "source": [
        "class Figure:\n",
        "    def __init__(self, name=None):\n",
        "        self.__name = name\n",
        "\n",
        "    def print_name(self):\n",
        "        print(self.__name)\n",
        "\n",
        "class Rectangle(Figure):\n",
        "    def __init__(self, a, b, name=None):\n",
        "        super().__init__(name)\n",
        "        self.__a = a\n",
        "        self.__b = b\n",
        "\n",
        "rect = Rectangle(5, 10, name='Rect')"
      ],
      "execution_count": 53,
      "outputs": []
    },
    {
      "cell_type": "code",
      "metadata": {
        "id": "gNrivSiG4rGM",
        "colab": {
          "base_uri": "https://localhost:8080/"
        },
        "outputId": "df34f03a-ec01-4eb0-cace-01db821ceec2"
      },
      "source": [
        "rect.print_name()  # AttributeError"
      ],
      "execution_count": 54,
      "outputs": [
        {
          "output_type": "stream",
          "text": [
            "Rect\n"
          ],
          "name": "stdout"
        }
      ]
    },
    {
      "cell_type": "code",
      "metadata": {
        "id": "x__KHZbN5Yg-",
        "colab": {
          "base_uri": "https://localhost:8080/"
        },
        "outputId": "cabb56e1-2511-4697-e5b1-a761d4dc70fb"
      },
      "source": [
        "rect.__dict__"
      ],
      "execution_count": 55,
      "outputs": [
        {
          "output_type": "execute_result",
          "data": {
            "text/plain": [
              "{'_Figure__name': 'Rect', '_Rectangle__a': 5, '_Rectangle__b': 10}"
            ]
          },
          "metadata": {
            "tags": []
          },
          "execution_count": 55
        }
      ]
    },
    {
      "cell_type": "markdown",
      "metadata": {
        "id": "SRsawfXF43fe"
      },
      "source": [
        "Объект **`Rectangle`** не может найти приватный атрибут **_Figure__name**. У него есть только **_Rectangle__name**"
      ]
    },
    {
      "cell_type": "markdown",
      "metadata": {
        "id": "tXrEdOFt5gXj"
      },
      "source": [
        "***Непубличные атрибуты не видны в производном классе***!!!"
      ]
    },
    {
      "cell_type": "markdown",
      "metadata": {
        "id": "gzvXWsYi5rvc"
      },
      "source": [
        "Решение:\n",
        "\n",
        "***Способ 1.*** Вызвать конструктор базового класса в явном виде"
      ]
    },
    {
      "cell_type": "code",
      "metadata": {
        "id": "UREyKRk66Drg",
        "colab": {
          "base_uri": "https://localhost:8080/",
          "height": 317
        },
        "outputId": "ed2e0b30-b21f-40b1-e1c4-d70ced378e18"
      },
      "source": [
        "class Figure:\n",
        "    def __init__(self, name=None):\n",
        "        self.__name = name\n",
        "\n",
        "    def print_name(self):\n",
        "        print(self.__name)\n",
        "\n",
        "class Rectangle(Figure):\n",
        "    def __init__(self, a, b, name=None):\n",
        "        super().__init__(name=name)\n",
        "        self.__a = a\n",
        "        self.__b = b\n",
        "\n",
        "    def print_name(self):\n",
        "        print(self.__name, \"!!!\")\n",
        "\n",
        "rect = Rectangle(5, 10, 'rect_fig_from_base_class')\n",
        "rect.print_name()  # rect_fig_from_base_class"
      ],
      "execution_count": 57,
      "outputs": [
        {
          "output_type": "error",
          "ename": "AttributeError",
          "evalue": "ignored",
          "traceback": [
            "\u001b[0;31m---------------------------------------------------------------------------\u001b[0m",
            "\u001b[0;31mAttributeError\u001b[0m                            Traceback (most recent call last)",
            "\u001b[0;32m<ipython-input-57-f71c3d0dc989>\u001b[0m in \u001b[0;36m<module>\u001b[0;34m()\u001b[0m\n\u001b[1;32m     16\u001b[0m \u001b[0;34m\u001b[0m\u001b[0m\n\u001b[1;32m     17\u001b[0m \u001b[0mrect\u001b[0m \u001b[0;34m=\u001b[0m \u001b[0mRectangle\u001b[0m\u001b[0;34m(\u001b[0m\u001b[0;36m5\u001b[0m\u001b[0;34m,\u001b[0m \u001b[0;36m10\u001b[0m\u001b[0;34m,\u001b[0m \u001b[0;34m'rect_fig_from_base_class'\u001b[0m\u001b[0;34m)\u001b[0m\u001b[0;34m\u001b[0m\u001b[0;34m\u001b[0m\u001b[0m\n\u001b[0;32m---> 18\u001b[0;31m \u001b[0mrect\u001b[0m\u001b[0;34m.\u001b[0m\u001b[0mprint_name\u001b[0m\u001b[0;34m(\u001b[0m\u001b[0;34m)\u001b[0m  \u001b[0;31m# rect_fig_from_base_class\u001b[0m\u001b[0;34m\u001b[0m\u001b[0;34m\u001b[0m\u001b[0m\n\u001b[0m",
            "\u001b[0;32m<ipython-input-57-f71c3d0dc989>\u001b[0m in \u001b[0;36mprint_name\u001b[0;34m(self)\u001b[0m\n\u001b[1;32m     13\u001b[0m \u001b[0;34m\u001b[0m\u001b[0m\n\u001b[1;32m     14\u001b[0m     \u001b[0;32mdef\u001b[0m \u001b[0mprint_name\u001b[0m\u001b[0;34m(\u001b[0m\u001b[0mself\u001b[0m\u001b[0;34m)\u001b[0m\u001b[0;34m:\u001b[0m\u001b[0;34m\u001b[0m\u001b[0;34m\u001b[0m\u001b[0m\n\u001b[0;32m---> 15\u001b[0;31m         \u001b[0mprint\u001b[0m\u001b[0;34m(\u001b[0m\u001b[0mself\u001b[0m\u001b[0;34m.\u001b[0m\u001b[0m__name\u001b[0m\u001b[0;34m,\u001b[0m \u001b[0;34m\"!!!\"\u001b[0m\u001b[0;34m)\u001b[0m\u001b[0;34m\u001b[0m\u001b[0;34m\u001b[0m\u001b[0m\n\u001b[0m\u001b[1;32m     16\u001b[0m \u001b[0;34m\u001b[0m\u001b[0m\n\u001b[1;32m     17\u001b[0m \u001b[0mrect\u001b[0m \u001b[0;34m=\u001b[0m \u001b[0mRectangle\u001b[0m\u001b[0;34m(\u001b[0m\u001b[0;36m5\u001b[0m\u001b[0;34m,\u001b[0m \u001b[0;36m10\u001b[0m\u001b[0;34m,\u001b[0m \u001b[0;34m'rect_fig_from_base_class'\u001b[0m\u001b[0;34m)\u001b[0m\u001b[0;34m\u001b[0m\u001b[0;34m\u001b[0m\u001b[0m\n",
            "\u001b[0;31mAttributeError\u001b[0m: 'Rectangle' object has no attribute '_Rectangle__name'"
          ]
        }
      ]
    },
    {
      "cell_type": "markdown",
      "metadata": {
        "id": "ut1kSAf_6Yq_"
      },
      "source": [
        "**Минус**: \n",
        "\n",
        "Вы всё равно не получаете доступ к не публичному атрибуту базового класса."
      ]
    },
    {
      "cell_type": "markdown",
      "metadata": {
        "id": "3R8zQLHn988c"
      },
      "source": [
        "***Способ 2.*** Защищённые атрибуты"
      ]
    },
    {
      "cell_type": "code",
      "metadata": {
        "id": "GWg4tLpJ-Pox",
        "colab": {
          "base_uri": "https://localhost:8080/"
        },
        "outputId": "8dfb5f9e-06e2-4c52-c1bb-03224997368d"
      },
      "source": [
        "# переопределяем метод print_name в дочернем классе\n",
        "class Figure:\n",
        "    def __init__(self, name=None):\n",
        "        self._name = name\n",
        "\n",
        "    def print_name(self):\n",
        "        print(self._name)\n",
        "\n",
        "class Rectangle(Figure):\n",
        "    def __init__(self, a, b, name=None):\n",
        "        super().__init__(name=name)\n",
        "        self.__a = a\n",
        "        self.__b = b\n",
        "\n",
        "    def print_name(self):\n",
        "        print(self._name, '!!!')\n",
        "\n",
        "rect = Rectangle(5, 10, 'rect_fig_from_base_class')\n",
        "rect.print_name()  # rect_fig_from_base_class"
      ],
      "execution_count": 62,
      "outputs": [
        {
          "output_type": "stream",
          "text": [
            "rect_fig_from_base_class !!!\n"
          ],
          "name": "stdout"
        }
      ]
    },
    {
      "cell_type": "code",
      "metadata": {
        "colab": {
          "base_uri": "https://localhost:8080/"
        },
        "id": "bur8BziiiPTk",
        "outputId": "253b0909-72b3-4f4b-b753-e797afa7103e"
      },
      "source": [
        "rect.__dict__"
      ],
      "execution_count": 63,
      "outputs": [
        {
          "output_type": "execute_result",
          "data": {
            "text/plain": [
              "{'_Rectangle__a': 5, '_Rectangle__b': 10, '_name': 'rect_fig_from_base_class'}"
            ]
          },
          "metadata": {
            "tags": []
          },
          "execution_count": 63
        }
      ]
    },
    {
      "cell_type": "code",
      "metadata": {
        "id": "7Sn0EIN1iPKF"
      },
      "source": [
        ""
      ],
      "execution_count": null,
      "outputs": []
    },
    {
      "cell_type": "markdown",
      "metadata": {
        "id": "QRqxvZR6-d6Z"
      },
      "source": [
        "Не публичные атрибуты видны в дочерних классах, если их имена начинаются с **_ (одного нижнего подчеркивания)**."
      ]
    },
    {
      "cell_type": "markdown",
      "metadata": {
        "id": "d76yMr2w-xGn"
      },
      "source": [
        "В Python их называют атрибутами API класса. В других языках **protected** (защищённые атрибуты)"
      ]
    },
    {
      "cell_type": "markdown",
      "metadata": {
        "id": "oLvy_opY-8Zk"
      },
      "source": [
        "### Выводы\n",
        "1. Наследование — это главный механизм для повторного использования кода.\n",
        "2. Атрибуты и методы следует разделять на:\n",
        "    - публичные (public) `self.name`, `self.get_name()`\n",
        "    - защищеные (protected) `self._name`, `self._get_name()`\n",
        "    - приватные (private) `self.__name`, `self.__get_name()`\n",
        "\n",
        "<img src=\"https://drive.google.com/uc?id=1THvPeLBNl6C2dmIjUHj_DlTwQr2Xp4vf\"/>"
      ]
    },
    {
      "cell_type": "markdown",
      "metadata": {
        "id": "agyX6lro6Wvb"
      },
      "source": [
        "# Объектно-ориентированное программирование (ООП) на языке Python. Полиморфизм"
      ]
    },
    {
      "cell_type": "markdown",
      "metadata": {
        "id": "6wn0wySiCoME"
      },
      "source": [
        "**Полиморфизм** — реализация задач одной и той же идеи разными способами.  \n",
        "\n",
        "В нашем случае мы будем говорить про перегрузку методов. \n",
        "\n",
        "**Перегрузка методов** — один из способов реализации полиморфизма, когда мы можем задать свою реализацию какого-либо метода в своём классе."
      ]
    },
    {
      "cell_type": "markdown",
      "metadata": {
        "id": "q-3ALK6SCh9u"
      },
      "source": [
        "![image.png](data:image/png;base64,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)"
      ]
    },
    {
      "cell_type": "code",
      "metadata": {
        "id": "wydgXYvHqGiq"
      },
      "source": [
        "class Triangle(Figure):\n",
        "    def __init__(*args, **kwargs):\n",
        "        super().__init__(*args, **kwargs)\n",
        "\n",
        "    def area(self, *args):\n",
        "        if len(args) == 2:\n",
        "            self.__area_height(*args)\n",
        "        if len(args) == 3:\n",
        "            self.__area_by_angle(*args)\n",
        "\n",
        "    def __area_by_angle(a, b, angle):\n",
        "        ...\n",
        "\n",
        "    def __area_height(a, h):\n",
        "        ..."
      ],
      "execution_count": null,
      "outputs": []
    },
    {
      "cell_type": "markdown",
      "metadata": {
        "id": "WJG9UZP3ALzb"
      },
      "source": [
        "### Магические методы"
      ]
    },
    {
      "cell_type": "markdown",
      "metadata": {
        "id": "Axj9XNcIAOPl"
      },
      "source": [
        "Что такое магические методы? \n",
        "\n",
        "Они всё в объектно-ориентированном Python. Это специальные методы, с помощью которых вы можете добавить в ваши классы «магию». Они всегда обрамлены двумя нижними подчеркиваниями (например, `__init__`)"
      ]
    },
    {
      "cell_type": "markdown",
      "metadata": {
        "id": "ySOldFEjARCd"
      },
      "source": [
        "Сегодня мы рассмотри 3 блока магических методов:\n",
        "- Конструирование и инициализация\n",
        "- Представление своих классов\n",
        "- Создание произвольных последовательностей"
      ]
    },
    {
      "cell_type": "markdown",
      "metadata": {
        "id": "MCdL4JfoAVcs"
      },
      "source": [
        "#### Конструирование и инициализация\n"
      ]
    },
    {
      "cell_type": "markdown",
      "metadata": {
        "id": "JV8x6UIhAYLO"
      },
      "source": [
        "К данному блоку можно отнести три метода:\n",
        "- `__new__` - метод, вызывается когда создается экземпляр класса. В общем, сначала он, потом `__init__`. Применяется нечасто, например, чтобы контролировать количество созданных экземпляров.\n",
        "- `__init__` - Инициализатор класса.\n",
        "- `__del__` - Деструктор. Вызывается при удаленни экземпляра класса. Изменять нужно с осознанием дела. Тоже редко используется"
      ]
    },
    {
      "cell_type": "markdown",
      "metadata": {
        "id": "BH3BxATUAeOp"
      },
      "source": [
        "#### Строковые представления: `__repr__` и `__str__`"
      ]
    },
    {
      "cell_type": "markdown",
      "metadata": {
        "id": "OlCdewu1AhC-"
      },
      "source": [
        "Оба этих метода играют важную роль в создании правильных строковых представлений для пользовательского класса. Перед тем как рассмотреть их более подробно, давайте разберем то, с чем дальше на протяжении **нескольких лекций и практик** будем работать."
      ]
    },
    {
      "cell_type": "markdown",
      "metadata": {
        "id": "s4Js5UwQAk5-"
      },
      "source": [
        "Для разбора магических метод, возьмем новую структуру данных, под названием **связанный список**. \n",
        "\n",
        "Не волнуйтесь, если вы не проходили курс PY111, мы будем разбирать её в первый раз."
      ]
    },
    {
      "cell_type": "markdown",
      "metadata": {
        "id": "a5g4w22cAnr3"
      },
      "source": [
        "**Линейный однонаправленный список** — это структура данных, состоящая из *элементов одного типа*, связанных между собой последовательно посредством указателей. \n",
        "\n",
        "![linkedlist](https://metanit.com/sharp/algoritm/pics/linkedlist1.png)\n",
        "\n",
        "Здесь ссылка в каждом узле указывает на следующий узел в списке. В односвязном списке можно передвигаться только в сторону конца списка. Узнать адрес предыдущего элемента, опираясь на содержимое текущего узла, невозможно.\n",
        "\n",
        "Для связного списка:\n",
        "- Каждый элемент списка имеет указатель на следующий элемент. \n",
        "- Последний элемент списка указывает на NULL.\n",
        "- Элемент, на который нет указателя, является первым (головным) элементом списка."
      ]
    },
    {
      "cell_type": "code",
      "metadata": {
        "id": "GunGXtgZ6eC8"
      },
      "source": [
        "class Node:\n",
        "    \"\"\"Класс, описывающий элементы \"одного типа\" (узлы), последовательно связанные между собой.\"\"\"\n",
        "    def __init__(self, data, next_=None):\n",
        "        self.data  = data\n",
        "        self.next = next_"
      ],
      "execution_count": 77,
      "outputs": []
    },
    {
      "cell_type": "code",
      "metadata": {
        "colab": {
          "base_uri": "https://localhost:8080/"
        },
        "id": "2fxXVGLTumRV",
        "outputId": "21efb1d8-b3ab-4858-93e0-da90067b9651"
      },
      "source": [
        "node = Node(5)\n",
        "print(node)"
      ],
      "execution_count": 78,
      "outputs": [
        {
          "output_type": "stream",
          "text": [
            "<__main__.Node object at 0x7f9f6ab53710>\n"
          ],
          "name": "stdout"
        }
      ]
    },
    {
      "cell_type": "code",
      "metadata": {
        "colab": {
          "base_uri": "https://localhost:8080/",
          "height": 35
        },
        "id": "P4AldUC3vu5F",
        "outputId": "07b17402-4e07-4b05-d2ef-3aa74e1299a0"
      },
      "source": [
        "repr(node)"
      ],
      "execution_count": 79,
      "outputs": [
        {
          "output_type": "execute_result",
          "data": {
            "application/vnd.google.colaboratory.intrinsic+json": {
              "type": "string"
            },
            "text/plain": [
              "'<__main__.Node object at 0x7f9f6ab53710>'"
            ]
          },
          "metadata": {
            "tags": []
          },
          "execution_count": 79
        }
      ]
    },
    {
      "cell_type": "markdown",
      "metadata": {
        "id": "5-QiVOjdAtkh"
      },
      "source": [
        " ```python\n",
        "def __repr__(self):\n",
        "    ...\n",
        "```\n",
        "Определяет поведение функции `repr()`, вызыванной для экземпляра вашего класса. \n",
        "\n",
        "Метод должен возвращать строку, показывающую, как может быть создан экземпляр.\n"
      ]
    },
    {
      "cell_type": "code",
      "metadata": {
        "id": "Hr9VSg3YAw68"
      },
      "source": [
        "# определение метода __repr__\n",
        "class Node:\n",
        "    \"\"\"Класс, описывающий элементы \"одного типа\" (узлы), последовательно связанные между собой.\"\"\"\n",
        "    def __init__(self, data, next_=None):\n",
        "        self.data  = data\n",
        "        self.next = next_\n",
        "    \n",
        "    def __repr__(self):\n",
        "        print('Вызван repr')\n",
        "        return f\"{self.__class__.__name__}({self.data}, {self.next})\""
      ],
      "execution_count": 87,
      "outputs": []
    },
    {
      "cell_type": "markdown",
      "metadata": {
        "id": "cNGyz6OWAxRb"
      },
      "source": [
        "`__repr__` вызывается если не определен `__str__`, например для функции print()"
      ]
    },
    {
      "cell_type": "code",
      "metadata": {
        "id": "lKNfRAO7A2gd",
        "colab": {
          "base_uri": "https://localhost:8080/"
        },
        "outputId": "fecc8cb1-5a60-43c5-dd71-0bf6b6306843"
      },
      "source": [
        "# print(Node)\n",
        "node = Node(5)\n",
        "print(node)"
      ],
      "execution_count": 88,
      "outputs": [
        {
          "output_type": "stream",
          "text": [
            "Вызван repr\n",
            "Node(5, None)\n"
          ],
          "name": "stdout"
        }
      ]
    },
    {
      "cell_type": "code",
      "metadata": {
        "colab": {
          "base_uri": "https://localhost:8080/"
        },
        "id": "YkU06hLNvPIJ",
        "outputId": "f3b083ec-39f8-4415-a040-160f420c3e8b"
      },
      "source": [
        "new_node = Node(5, None)\n",
        "print(new_node)"
      ],
      "execution_count": 74,
      "outputs": [
        {
          "output_type": "stream",
          "text": [
            "Вызван repr\n",
            "Node(5, None)\n"
          ],
          "name": "stdout"
        }
      ]
    },
    {
      "cell_type": "code",
      "metadata": {
        "colab": {
          "base_uri": "https://localhost:8080/",
          "height": 52
        },
        "id": "pHTPD452vXGF",
        "outputId": "f591daad-dd4c-4c8f-ee8c-495f8fc86205"
      },
      "source": [
        "repr(new_node)"
      ],
      "execution_count": 75,
      "outputs": [
        {
          "output_type": "stream",
          "text": [
            "Вызван repr\n"
          ],
          "name": "stdout"
        },
        {
          "output_type": "execute_result",
          "data": {
            "application/vnd.google.colaboratory.intrinsic+json": {
              "type": "string"
            },
            "text/plain": [
              "'Node(5, None)'"
            ]
          },
          "metadata": {
            "tags": []
          },
          "execution_count": 75
        }
      ]
    },
    {
      "cell_type": "code",
      "metadata": {
        "colab": {
          "base_uri": "https://localhost:8080/"
        },
        "id": "i9PEobCgvbKJ",
        "outputId": "529163ea-80d6-4009-93ea-00788675a128"
      },
      "source": [
        "new_node"
      ],
      "execution_count": 76,
      "outputs": [
        {
          "output_type": "stream",
          "text": [
            "Вызван repr\n"
          ],
          "name": "stdout"
        },
        {
          "output_type": "execute_result",
          "data": {
            "text/plain": [
              "Node(5, None)"
            ]
          },
          "metadata": {
            "tags": []
          },
          "execution_count": 76
        }
      ]
    },
    {
      "cell_type": "markdown",
      "metadata": {
        "id": "5hU2Ufg_A9Eu"
      },
      "source": [
        " ```python\n",
        "def __str__(self):\n",
        "    ...\n",
        "```\n",
        "Определяет поведение функции `str()`, вызванной для экземпляра вашего класса. Например, `print()`, f-string ...\n",
        "\n",
        "Главное отличие `__str__` в целевой аудитории. `__repr__` больше предназначен для машинно-ориентированного вывода (более того, это часто должен быть валидный код на Питоне), а `__str__` предназначен для чтения людьми.\n"
      ]
    },
    {
      "cell_type": "code",
      "metadata": {
        "id": "knvAaqZKA-Vc"
      },
      "source": [
        "# определение метода __repr__\n",
        "class Node(a<):\n",
        "    \"\"\"Класс, описывающий элементы \"одного типа\" (узлы), последовательно связанные между собой.\"\"\"\n",
        "    def __init__(self, data, next_=None):\n",
        "\n",
        "        self.data  = data\n",
        "        self.next = next_\n",
        "    \n",
        "    def __repr__(self):\n",
        "        print('Вызван repr')\n",
        "        return f\"Node({self.data}, {self.next})\"\n",
        "\n",
        "    def __str__(self):\n",
        "        return f\"{self.data}\"\n"
      ],
      "execution_count": 90,
      "outputs": []
    },
    {
      "cell_type": "code",
      "metadata": {
        "colab": {
          "base_uri": "https://localhost:8080/"
        },
        "id": "36dbnstLwJTW",
        "outputId": "3f07c0a1-58ce-4da0-ed51-27b0a4959ee0"
      },
      "source": [
        "node = Node(100)\n",
        "print(node)"
      ],
      "execution_count": 91,
      "outputs": [
        {
          "output_type": "stream",
          "text": [
            "<__main__.Node object at 0x7f9f6aaf0f28>\n"
          ],
          "name": "stdout"
        }
      ]
    },
    {
      "cell_type": "code",
      "metadata": {
        "colab": {
          "base_uri": "https://localhost:8080/",
          "height": 35
        },
        "id": "cD2uJAL4wUyr",
        "outputId": "54debd10-aa53-437f-fbe8-7ca1a14cf3e2"
      },
      "source": [
        "repr(node)"
      ],
      "execution_count": 92,
      "outputs": [
        {
          "output_type": "execute_result",
          "data": {
            "application/vnd.google.colaboratory.intrinsic+json": {
              "type": "string"
            },
            "text/plain": [
              "'<__main__.Node object at 0x7f9f6aaf0f28>'"
            ]
          },
          "metadata": {
            "tags": []
          },
          "execution_count": 92
        }
      ]
    },
    {
      "cell_type": "code",
      "metadata": {
        "colab": {
          "base_uri": "https://localhost:8080/"
        },
        "id": "OOcM9lmcxKTv",
        "outputId": "618dc98a-6588-469f-922b-23a2ceb15a64"
      },
      "source": [
        "[Node(i) for i in range(10)]"
      ],
      "execution_count": 93,
      "outputs": [
        {
          "output_type": "execute_result",
          "data": {
            "text/plain": [
              "[<__main__.Node at 0x7f9f6aaf0710>,\n",
              " <__main__.Node at 0x7f9f6aaf0358>,\n",
              " <__main__.Node at 0x7f9f6aaf0160>,\n",
              " <__main__.Node at 0x7f9f6aaf0240>,\n",
              " <__main__.Node at 0x7f9f6aaf0080>,\n",
              " <__main__.Node at 0x7f9f6aaf0128>,\n",
              " <__main__.Node at 0x7f9f6aaf0550>,\n",
              " <__main__.Node at 0x7f9f6aaf0048>,\n",
              " <__main__.Node at 0x7f9f6aaf02b0>,\n",
              " <__main__.Node at 0x7f9f6aaf00b8>]"
            ]
          },
          "metadata": {
            "tags": []
          },
          "execution_count": 93
        }
      ]
    },
    {
      "cell_type": "markdown",
      "metadata": {
        "id": "CW4x-M6xA_jy"
      },
      "source": [
        "#### Создание произвольных последовательностей"
      ]
    },
    {
      "cell_type": "markdown",
      "metadata": {
        "id": "Gs_X9toeDZi4"
      },
      "source": [
        "В Питоне существует множество способов заставить ваши классы вести себя как встроенные последовательности (словари, кортежи, списки, строки и так далее), давайте заставим связный список работать с привычными функциями len(), list_[1] - взятие по индексу, for ..."
      ]
    },
    {
      "cell_type": "markdown",
      "metadata": {
        "id": "1jWSrTFtDdMQ"
      },
      "source": [
        "**`__len__(self)`**\n",
        "Возвращает количество элементов в контейнере. Часть протоколов для изменяемого и неизменяемого контейнеров.\n",
        "\n",
        "**`__getitem__(self, key)`**\n",
        "Определяет поведение при доступе к элементу, используя синтаксис self[key]. Тоже относится и к протоколу изменяемых и к протоколу неизменяемых контейнеров. Должен выбрасывать соответствующие исключения: TypeError если неправильный тип ключа и KeyError если ключу не соответствует никакого значения.\n",
        "\n",
        "**`__setitem__(self, key, value)`**\n",
        "Определяет поведение при присваивании значения элементу, используя синтаксис self[nkey] = value. Часть протокола изменяемого контейнера. Опять же, вы должны выбрасывать KeyError и TypeError в соответсвующих случаях.\n",
        "\n",
        "**`__delitem__(self, key)`**\n",
        "Определяет поведение при удалении элемента (то есть del self[key]). Это часть только протокола для изменяемого контейнера. Вы должны выбрасывать соответствующее исключение, если ключ некорректен.\n",
        "\n",
        "**`__reversed__(self)`**\n",
        "Вызывается чтобы определить поведения для встроенной функции `reversed()`. Должен вернуть обратную версию последовательности. Реализуйте метод только если класс упорядоченный, как список или кортеж.\n",
        "\n",
        "\n",
        "**`__contains__(self, item)`**\n",
        "`__contains__` предназначен для проверки принадлежности элемента с помощью `in` и `not in`."
      ]
    },
    {
      "cell_type": "code",
      "metadata": {
        "id": "Q2PfM1bS9jJY"
      },
      "source": [
        "linked_list = LinkedList()\n",
        "linked_list[4]\n",
        "\n",
        "linked_list[4] = 5\n",
        "\n",
        "del linked_list[4]\n",
        "\n",
        "reversed(linked_list)\n",
        "\n",
        "linked_list in 5"
      ],
      "execution_count": null,
      "outputs": []
    },
    {
      "cell_type": "markdown",
      "metadata": {
        "id": "jhsrEtxJDfxZ"
      },
      "source": [
        "***Примечание по `__getitems__`***\n",
        "- Обратите внимание, как цикл `for` просто продолжает вызывать `__getitem__` метод с постоянно увеличивающимся индексом, пока не возникнет исключение `IndexError`.\n",
        "\n",
        "- Когда `__contains__` не определён, Python просто перебирает всю последовательность элемент за элементом и возвращает `True` если находит нужный.\n",
        "\n",
        "- Если определен `__getitems__`, то работает встроенная сортировка `sorted()`"
      ]
    },
    {
      "cell_type": "markdown",
      "metadata": {
        "id": "bZwxt_4-D4CJ"
      },
      "source": [
        "#### Перегрузка математических операторов"
      ]
    },
    {
      "cell_type": "code",
      "metadata": {
        "id": "CLBYkIdyBDjT"
      },
      "source": [
        ""
      ],
      "execution_count": null,
      "outputs": []
    },
    {
      "cell_type": "markdown",
      "metadata": {
        "id": "ORr5Y8ClEf2U"
      },
      "source": [
        "### Выводы:\n"
      ]
    },
    {
      "cell_type": "markdown",
      "metadata": {
        "id": "iprQNWaWElX5"
      },
      "source": [
        "1. Перегрузка операторов в Python – это возможность с помощью специальных методов в классах переопределять различные операторы языка.\n",
        "\n",
        "1. Список магических методов. [На русском](https://pythonworld.ru/osnovy/peregruzka-operatorov.html). [Документация Python](https://docs.python.org/3/reference/datamodel.html#basic-customization)"
      ]
    },
    {
      "cell_type": "code",
      "metadata": {
        "id": "VGrwLTxFA04P"
      },
      "source": [
        "class A(B, C):\n",
        "    def __init__():\n",
        "        A.__init__    "
      ],
      "execution_count": null,
      "outputs": []
    }
  ]
}