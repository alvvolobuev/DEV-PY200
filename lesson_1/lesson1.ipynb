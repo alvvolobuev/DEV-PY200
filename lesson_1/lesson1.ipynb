{
  "nbformat": 4,
  "nbformat_minor": 0,
  "metadata": {
    "colab": {
      "name": "lesson1",
      "provenance": [],
      "collapsed_sections": [],
      "toc_visible": true,
      "authorship_tag": "ABX9TyOpvWcnJTi+MgRmtfPuiFSR",
      "include_colab_link": true
    },
    "kernelspec": {
      "name": "python3",
      "display_name": "Python 3"
    }
  },
  "cells": [
    {
      "cell_type": "markdown",
      "metadata": {
        "id": "view-in-github",
        "colab_type": "text"
      },
      "source": [
        "<a href=\"https://colab.research.google.com/github/aeksei/PY200_Spring_2021/blob/master/lesson_1/lesson1.ipynb\" target=\"_parent\"><img src=\"https://colab.research.google.com/assets/colab-badge.svg\" alt=\"Open In Colab\"/></a>"
      ]
    },
    {
      "cell_type": "markdown",
      "metadata": {
        "id": "mLBudgBKS277"
      },
      "source": [
        " # Объектно-ориентированное программирование (ООП) на языке Python"
      ]
    },
    {
      "cell_type": "markdown",
      "metadata": {
        "id": "Rynxz35DTENv"
      },
      "source": [
        "* Основы ООП\n",
        "* Понятие класса, объекта\n",
        "* Создание экземпляра класса"
      ]
    },
    {
      "cell_type": "markdown",
      "metadata": {
        "id": "vxXPtoWOTwie"
      },
      "source": [
        "##  Основы объектно-ориентированного программирования (ООП)"
      ]
    },
    {
      "cell_type": "markdown",
      "metadata": {
        "id": "cuu9ThSO-4m-"
      },
      "source": [
        "Язык Python является **мультипарадигменным** языком.  \n",
        "\n",
        "**Парадигма программирования** — это совокупность идей и понятий, определяющих стиль написания компьютерных программ. \n"
      ]
    },
    {
      "cell_type": "markdown",
      "metadata": {
        "id": "N-D69JeyBb6v"
      },
      "source": [
        "До этого работа строилась в ключе **функционального подхода**. Такого способа выстраивания своей программы, которая складывалась из отдельных функций."
      ]
    },
    {
      "cell_type": "markdown",
      "metadata": {
        "id": "LbjigDQp1IRv"
      },
      "source": [
        "### Модель стакана"
      ]
    },
    {
      "cell_type": "markdown",
      "metadata": {
        "id": "11PtEJd6T5z-"
      },
      "source": [
        "Давайте запрограммируем модель стакана с водой. Материал стакана нам пока что не важен.  \n",
        "![glass.png](https://novgazeta.by/upload/iblock/dce/dce5704239ff9af56884b942cf2d135d.jpg)\n",
        "1. Какие характеристики позволяют описать стакан с водой?\n",
        "2. Как на языке программирования Python описать эту модель с точки зрения удобства работы с ней? "
      ]
    },
    {
      "cell_type": "code",
      "metadata": {
        "id": "KFyqPYyYW3e-"
      },
      "source": [
        "# Модель стакана с водой\n",
        "glass = {\n",
        "    'capacity_volume': 0,  # объем стакана\n",
        "    'occupied_volume': 0  # занятый объем\n",
        "}"
      ],
      "execution_count": null,
      "outputs": []
    },
    {
      "cell_type": "markdown",
      "metadata": {
        "id": "-NbeBRPYXhwA"
      },
      "source": [
        "Переменная `glass` - модель или объект. Объект - это то над чем мы будем выполнять все операции.  \n",
        "Содержимое словаря - описание модели или его схема.  "
      ]
    },
    {
      "cell_type": "markdown",
      "metadata": {
        "id": "o5sYRe_l5NYX"
      },
      "source": [
        "Вероятнее всего мы будем делать много разных стаканов, поэтому напишем функцию `init`, которая будет \"создавать\" стаканы.\n",
        "\n",
        "**Init** - (от англ. initialization) - инициализация, создание, подготовка к работе)"
      ]
    },
    {
      "cell_type": "code",
      "metadata": {
        "id": "klDadb8R6DPj"
      },
      "source": [
        "def init(capacity_volume: int, occupied_volume: int) -> dict:\n",
        "    \"\"\"\n",
        "    Создание и подготовка к работе объекта \"Стакан\"\n",
        "    \n",
        "    :param capacity_volume: Объем стакана\n",
        "    :param occupied_volume: Объем занимаемой жидкости\n",
        "    :return: Инициализированный словарь\n",
        "    \"\"\"\n",
        "    glass = {\n",
        "        'capacity_volume': capacity_volume,  # объем стакана\n",
        "        'occupied_volume': occupied_volume  # занятый объем\n",
        "    }\n",
        "\n",
        "    return glass\n"
      ],
      "execution_count": 5,
      "outputs": []
    },
    {
      "cell_type": "markdown",
      "metadata": {
        "id": "UwLFOdal40I8"
      },
      "source": [
        "### Логика модели на основе функционального подхода"
      ]
    },
    {
      "cell_type": "markdown",
      "metadata": {
        "id": "E5b7yGjr7zmE"
      },
      "source": [
        "\"Создадим\" стакан и наполним его жидкостью..."
      ]
    },
    {
      "cell_type": "code",
      "metadata": {
        "colab": {
          "base_uri": "https://localhost:8080/"
        },
        "id": "SkWFSug87cwq",
        "outputId": "31b75113-ad6d-4224-c6a3-684a30d982ce"
      },
      "source": [
        "# Создаём \"словарь-стакан\", в котором есть два элемента: \n",
        "# объём и количество занимаемой жидкости\n",
        "glass = init(500, 0)\n",
        "\n",
        "print(glass)"
      ],
      "execution_count": 6,
      "outputs": [
        {
          "output_type": "stream",
          "text": [
            "{'capacity_volume': 500, 'occupied_volume': 0}\n"
          ],
          "name": "stdout"
        }
      ]
    },
    {
      "cell_type": "code",
      "metadata": {
        "colab": {
          "base_uri": "https://localhost:8080/"
        },
        "id": "ZTTf3lY-9P_V",
        "outputId": "d816cec5-9661-4573-b90f-222d5f5a84bc"
      },
      "source": [
        "# Добавляем ещё 400 мл\n",
        "glass['occupied_volume']  = glass['occupied_volume']  + 400\n",
        "\n",
        "print(glass)"
      ],
      "execution_count": 7,
      "outputs": [
        {
          "output_type": "stream",
          "text": [
            "{'capacity_volume': 500, 'occupied_volume': 400}\n"
          ],
          "name": "stdout"
        }
      ]
    },
    {
      "cell_type": "markdown",
      "metadata": {
        "id": "4KLjMVBP8aG3"
      },
      "source": [
        "Добавим ещё немного воды..."
      ]
    },
    {
      "cell_type": "code",
      "metadata": {
        "colab": {
          "base_uri": "https://localhost:8080/"
        },
        "id": "mTJEwVBh8da1",
        "outputId": "6de67406-8595-48b9-a73d-429aecf17820"
      },
      "source": [
        "# Добавляем ещё 200 мл\n",
        "glass['occupied_volume'] += 200\n",
        "\n",
        "print(glass)"
      ],
      "execution_count": 8,
      "outputs": [
        {
          "output_type": "stream",
          "text": [
            "{'capacity_volume': 500, 'occupied_volume': 600}\n"
          ],
          "name": "stdout"
        }
      ]
    },
    {
      "cell_type": "markdown",
      "metadata": {
        "id": "TJcGuh8F8gS5"
      },
      "source": [
        "Упс, объём воды в стакане больше, чем занимаемый объем стакана :((  \n",
        "Как решить это вопрос?"
      ]
    },
    {
      "cell_type": "markdown",
      "metadata": {
        "id": "_HzCjLK045YI"
      },
      "source": [
        "#### Добавление воды"
      ]
    },
    {
      "cell_type": "markdown",
      "metadata": {
        "id": "GmwaRDkb_xZe"
      },
      "source": [
        "Создадим функцию `add_water_to_glass`, которая будет уметь работь со стаканом и реализовывать логику добавления в него воды"
      ]
    },
    {
      "cell_type": "code",
      "metadata": {
        "id": "aadqoZT7CKCn"
      },
      "source": [
        "def add_water_to_glass(glass: dict, water: int) -> int:\n",
        "    \"\"\"\n",
        "    Добавление воды в стакан. \n",
        "    \n",
        "    Если количество добавляемой жидкости превышает доступное место, \n",
        "    то возвращается количество непоместившейся жидкости\n",
        "    \n",
        "    :param glass: Объект стакан\n",
        "    :param water: Объем добавляемой жидкости\n",
        "    :return: Объем непоместившейся жидкости\n",
        "    \"\"\"\n",
        "    delta = glass['capacity_volume'] - glass['occupied_volume']\n",
        "\n",
        "    if delta < water:\n",
        "        glass['occupied_volume'] = glass['capacity_volume']\n",
        "        return water - delta\n",
        "    else:\n",
        "        glass['occupied_volume'] += water\n",
        "        return 0\n",
        "    "
      ],
      "execution_count": 9,
      "outputs": []
    },
    {
      "cell_type": "markdown",
      "metadata": {
        "id": "6ci9TK27C8CJ"
      },
      "source": [
        "Воспользуемся данной функцией для проверки работы со стаканом"
      ]
    },
    {
      "cell_type": "code",
      "metadata": {
        "id": "pBhOXSPQDPsv"
      },
      "source": [
        "# Инициализируем стакан\n",
        "glass = init(500, 0)"
      ],
      "execution_count": 10,
      "outputs": []
    },
    {
      "cell_type": "code",
      "metadata": {
        "id": "7l4YTG8VD3dH"
      },
      "source": [
        "# Добавляем в него воду\n",
        "remaning_liquid = add_water_to_glass(glass, 200)"
      ],
      "execution_count": 11,
      "outputs": []
    },
    {
      "cell_type": "code",
      "metadata": {
        "colab": {
          "base_uri": "https://localhost:8080/"
        },
        "id": "SY-c49AyEPnT",
        "outputId": "d15e9908-822b-4289-d76c-bea49bea83de"
      },
      "source": [
        "# Стакан полностью заполнен водой\n",
        "print(\"Стакан:\", glass)"
      ],
      "execution_count": 12,
      "outputs": [
        {
          "output_type": "stream",
          "text": [
            "Стакан: {'capacity_volume': 500, 'occupied_volume': 200}\n"
          ],
          "name": "stdout"
        }
      ]
    },
    {
      "cell_type": "code",
      "metadata": {
        "colab": {
          "base_uri": "https://localhost:8080/"
        },
        "id": "4AQ7GBKaETFa",
        "outputId": "16c0ed4b-330a-4849-d195-23481de06ef2"
      },
      "source": [
        "# Оставшаяся вода, которая не влезла в стакан \n",
        "print(\"Оставшаяся вода:\", remaning_liquid)"
      ],
      "execution_count": 13,
      "outputs": [
        {
          "output_type": "stream",
          "text": [
            "Оставшаяся вода: 0\n"
          ],
          "name": "stdout"
        }
      ]
    },
    {
      "cell_type": "code",
      "metadata": {
        "colab": {
          "base_uri": "https://localhost:8080/"
        },
        "id": "Ha6J392hIqaG",
        "outputId": "4e906d47-f497-4864-ee53-34f0c97a2ef2"
      },
      "source": [
        "add_water_to_glass(glass, 500)"
      ],
      "execution_count": 14,
      "outputs": [
        {
          "output_type": "execute_result",
          "data": {
            "text/plain": [
              "200"
            ]
          },
          "metadata": {
            "tags": []
          },
          "execution_count": 14
        }
      ]
    },
    {
      "cell_type": "code",
      "metadata": {
        "colab": {
          "base_uri": "https://localhost:8080/"
        },
        "id": "GLyEOymtI1MZ",
        "outputId": "1baa169d-f89d-4b8e-8ccd-656907165881"
      },
      "source": [
        "# Стакан полностью заполнен водой\n",
        "print(\"Стакан:\", glass)"
      ],
      "execution_count": 15,
      "outputs": [
        {
          "output_type": "stream",
          "text": [
            "Стакан: {'capacity_volume': 500, 'occupied_volume': 500}\n"
          ],
          "name": "stdout"
        }
      ]
    },
    {
      "cell_type": "markdown",
      "metadata": {
        "id": "RtUcr0G_FGpi"
      },
      "source": [
        "Теперь с точки зрения логики, корректно обрабатывается добавление воды в стакан.  \n",
        "А что будет, если передать не стакан???"
      ]
    },
    {
      "cell_type": "markdown",
      "metadata": {
        "id": "m074TTCG1RJC"
      },
      "source": [
        "#### Проверка модели"
      ]
    },
    {
      "cell_type": "markdown",
      "metadata": {
        "id": "PjzRlWTbzhdR"
      },
      "source": [
        "Переменная `glass` является словарём `dict`.  \n",
        "Как проверить, что с точки зрения логики выполнения приложения переменная `glass` является объектом типа \"Стакан\"?"
      ]
    },
    {
      "cell_type": "markdown",
      "metadata": {
        "id": "ugLTpHei0TTQ"
      },
      "source": [
        "Можем написать функцию `is_glass`, которая будет проверять является ли словарь стаканом."
      ]
    },
    {
      "cell_type": "code",
      "metadata": {
        "id": "4a00MZtE0rhC"
      },
      "source": [
        "def is_glass(glass: dict) -> bool:\n",
        "    \"\"\"\n",
        "    Функция которая проверяет является ли словарь стаканом\n",
        "    \n",
        "    :param glass: Объект стакан\n",
        "    :return: Является ли объект стаканом или нет\n",
        "    \"\"\"\n",
        "    return True if 'capacity_volume' in glass and 'occupied_volume' in glass else False"
      ],
      "execution_count": 17,
      "outputs": []
    },
    {
      "cell_type": "markdown",
      "metadata": {
        "id": "sD8tCHWrH8xJ"
      },
      "source": [
        "Тогда функция добавления будет иметь \"защиту от дурака\""
      ]
    },
    {
      "cell_type": "code",
      "metadata": {
        "id": "bhV02tOcHxCR"
      },
      "source": [
        "def add_water_to_glass(glass: dict, water: int) -> int:\n",
        "    \"\"\"\n",
        "    Добавление воды в стакан. \n",
        "    \n",
        "    Если количество добавляемой жидкости превышает доступное место, \n",
        "    то возвращается количество непоместившейся жидкости\n",
        "    \n",
        "    :param glass: Объект стакан\n",
        "    :param water: Объем добавляемой жидкости\n",
        "    :return: Объем непоместившейся жидкости\n",
        "    \"\"\"\n",
        "    if not is_glass(glass):\n",
        "        raise TypeError('Объект не стакан')\n",
        "    \n",
        "    delta = glass['capacity_volume'] - glass['occupied_volume']\n",
        "    if delta < water:\n",
        "        glass['occupied_volume'] = glass['capacity_volume']\n",
        "        return water - delta\n",
        "    else:\n",
        "        glass['occupied_volume'] += water\n",
        "        return 0"
      ],
      "execution_count": 20,
      "outputs": []
    },
    {
      "cell_type": "code",
      "metadata": {
        "id": "BPInQvWqIPqq",
        "colab": {
          "base_uri": "https://localhost:8080/"
        },
        "outputId": "0c3a1afc-81bd-4c9f-de15-eacdfaa7c075"
      },
      "source": [
        "# работа со стаканом\n",
        "glass = init(500, 0)\n",
        "add_water_to_glass(glass, 200)"
      ],
      "execution_count": 21,
      "outputs": [
        {
          "output_type": "execute_result",
          "data": {
            "text/plain": [
              "0"
            ]
          },
          "metadata": {
            "tags": []
          },
          "execution_count": 21
        }
      ]
    },
    {
      "cell_type": "code",
      "metadata": {
        "colab": {
          "base_uri": "https://localhost:8080/"
        },
        "id": "GFaFrnobJ7ao",
        "outputId": "42e6ea51-8eb8-4f90-e378-6e39a725181d"
      },
      "source": [
        "print(glass)"
      ],
      "execution_count": 22,
      "outputs": [
        {
          "output_type": "stream",
          "text": [
            "{'capacity_volume': 500, 'occupied_volume': 200}\n"
          ],
          "name": "stdout"
        }
      ]
    },
    {
      "cell_type": "code",
      "metadata": {
        "id": "5JH6EJTSIUS7",
        "colab": {
          "base_uri": "https://localhost:8080/",
          "height": 317
        },
        "outputId": "73b0606c-37d6-4668-93ae-b83117a0bfb9"
      },
      "source": [
        "# работа не со стаканом\n",
        "fake_glass = {\n",
        "    'length': 50, \n",
        "    'weight': 100\n",
        "}\n",
        "add_water_to_glass(fake_glass, 200)"
      ],
      "execution_count": 23,
      "outputs": [
        {
          "output_type": "error",
          "ename": "TypeError",
          "evalue": "ignored",
          "traceback": [
            "\u001b[0;31m---------------------------------------------------------------------------\u001b[0m",
            "\u001b[0;31mTypeError\u001b[0m                                 Traceback (most recent call last)",
            "\u001b[0;32m<ipython-input-23-749da3de0f11>\u001b[0m in \u001b[0;36m<module>\u001b[0;34m()\u001b[0m\n\u001b[1;32m      4\u001b[0m     \u001b[0;34m'weight'\u001b[0m\u001b[0;34m:\u001b[0m \u001b[0;36m100\u001b[0m\u001b[0;34m\u001b[0m\u001b[0;34m\u001b[0m\u001b[0m\n\u001b[1;32m      5\u001b[0m }\n\u001b[0;32m----> 6\u001b[0;31m \u001b[0madd_water_to_glass\u001b[0m\u001b[0;34m(\u001b[0m\u001b[0mfake_glass\u001b[0m\u001b[0;34m,\u001b[0m \u001b[0;36m200\u001b[0m\u001b[0;34m)\u001b[0m\u001b[0;34m\u001b[0m\u001b[0;34m\u001b[0m\u001b[0m\n\u001b[0m",
            "\u001b[0;32m<ipython-input-20-e16247ed3b79>\u001b[0m in \u001b[0;36madd_water_to_glass\u001b[0;34m(glass, water)\u001b[0m\n\u001b[1;32m     11\u001b[0m     \"\"\"\n\u001b[1;32m     12\u001b[0m     \u001b[0;32mif\u001b[0m \u001b[0;32mnot\u001b[0m \u001b[0mis_glass\u001b[0m\u001b[0;34m(\u001b[0m\u001b[0mglass\u001b[0m\u001b[0;34m)\u001b[0m\u001b[0;34m:\u001b[0m\u001b[0;34m\u001b[0m\u001b[0;34m\u001b[0m\u001b[0m\n\u001b[0;32m---> 13\u001b[0;31m         \u001b[0;32mraise\u001b[0m \u001b[0mTypeError\u001b[0m\u001b[0;34m(\u001b[0m\u001b[0;34m'Объект не стакан'\u001b[0m\u001b[0;34m)\u001b[0m\u001b[0;34m\u001b[0m\u001b[0;34m\u001b[0m\u001b[0m\n\u001b[0m\u001b[1;32m     14\u001b[0m \u001b[0;34m\u001b[0m\u001b[0m\n\u001b[1;32m     15\u001b[0m     \u001b[0mdelta\u001b[0m \u001b[0;34m=\u001b[0m \u001b[0mglass\u001b[0m\u001b[0;34m[\u001b[0m\u001b[0;34m'capacity_volume'\u001b[0m\u001b[0;34m]\u001b[0m \u001b[0;34m-\u001b[0m \u001b[0mglass\u001b[0m\u001b[0;34m[\u001b[0m\u001b[0;34m'occupied_volume'\u001b[0m\u001b[0;34m]\u001b[0m\u001b[0;34m\u001b[0m\u001b[0;34m\u001b[0m\u001b[0m\n",
            "\u001b[0;31mTypeError\u001b[0m: Объект не стакан"
          ]
        }
      ]
    },
    {
      "cell_type": "markdown",
      "metadata": {
        "id": "yazSEaxZJQ1z"
      },
      "source": [
        "#### Извлечение воды"
      ]
    },
    {
      "cell_type": "markdown",
      "metadata": {
        "id": "ALiQDh_aL_uV"
      },
      "source": [
        "Запишем ещё функцию извлечения воды с учетом проверки типа объекта, с которым она работает"
      ]
    },
    {
      "cell_type": "code",
      "metadata": {
        "id": "QM_0IyfGL8t9"
      },
      "source": [
        "def remove_water_from_glass(glass: dict, estimate_water: int) -> int:\n",
        "    \"\"\"\n",
        "    Извлечение воды из стакана\n",
        "    \n",
        "    Если количество извлекаемой жидкости превышает количество воды в стакане,\n",
        "    то возвращается реальное количество извлеченной воды\n",
        "    \n",
        "    :param glass: Объект стакан\n",
        "    :param estimate_water: Объем извлекаемой жидкости\n",
        "    :return: Объем реально извлеченной жидкости\n",
        "    \"\"\"\n",
        "    ..."
      ],
      "execution_count": 24,
      "outputs": []
    },
    {
      "cell_type": "code",
      "metadata": {
        "colab": {
          "base_uri": "https://localhost:8080/"
        },
        "id": "-5sdDleINTOo",
        "outputId": "be3e8c9d-f41a-424d-abde-44fc8968a096"
      },
      "source": [
        "# Количество извлекаемой жидкости меньше наполненности стакана\n",
        "glass = init(500, 250)\n",
        "real_remove_water = remove_water_from_glass(glass, 200)\n",
        "\n",
        "print(\"Стакан:\", glass)\n",
        "print(\"Количество действительно извлеченной воды:\", real_remove_water)"
      ],
      "execution_count": 25,
      "outputs": [
        {
          "output_type": "stream",
          "text": [
            "Стакан: {'capacity_volume': 500, 'occupied_volume': 250}\n",
            "Количество действительно извлеченной воды: None\n"
          ],
          "name": "stdout"
        }
      ]
    },
    {
      "cell_type": "code",
      "metadata": {
        "colab": {
          "base_uri": "https://localhost:8080/"
        },
        "id": "qML07PzJOQOz",
        "outputId": "dc115d47-f1c3-40fc-8268-d9aced5d34b8"
      },
      "source": [
        "# Количество извлекаемой жидкости больше наполненности стакана\n",
        "glass = init(500, 100)\n",
        "real_remove_water = remove_water_from_glass(glass, 200)\n",
        "\n",
        "print(\"Стакан:\", glass)\n",
        "print(\"Количество действительно извлеченной воды:\", real_remove_water)"
      ],
      "execution_count": 26,
      "outputs": [
        {
          "output_type": "stream",
          "text": [
            "Стакан: {'capacity_volume': 500, 'occupied_volume': 100}\n",
            "Количество действительно извлеченной воды: None\n"
          ],
          "name": "stdout"
        }
      ]
    },
    {
      "cell_type": "markdown",
      "metadata": {
        "id": "GNW6c5RpO50l"
      },
      "source": [
        "#### Проблемы функционального подхода"
      ]
    },
    {
      "cell_type": "markdown",
      "metadata": {
        "id": "vS3i-YXoPBOf"
      },
      "source": [
        "Если собрать всё в кучу, то мы имеем следующую картину:\n",
        "```python\n",
        "# данные\n",
        "glass = {\n",
        "    'capacity_volume' : 500, \n",
        "    'occupied_volume' : 0\n",
        "}\n",
        "\n",
        "# Функции, оперирующие с моделью стакана с водой:\n",
        "def is_glass(glass: dict) -> bool:\n",
        "    ...\n",
        "\n",
        "\n",
        "def add_water_to_glass(glass: dict, water: int) -> int:\n",
        "    ...\n",
        "\n",
        "\n",
        "def remove_water_from_glass(glass: dict, estimate_water: int) -> int:\n",
        "    ...\n",
        "```\n"
      ]
    },
    {
      "cell_type": "markdown",
      "metadata": {
        "id": "-hIyRwTDQkx8"
      },
      "source": [
        "***Проблема***:  \n",
        "Функции `is_glass`, `add_water_to_glass` и `remove_water_from_glass` отделены друг от друга. Из **исходного кода** программы неизвестно какие функции можно использовать для управлением объектом типа \"Стакан\"."
      ]
    },
    {
      "cell_type": "markdown",
      "metadata": {
        "id": "4Wgx0MIsRkXg"
      },
      "source": [
        "***Решение:***  \n",
        "Совместно определить данные и функции.\n",
        "```python\n",
        "# Функции, оперирующие с моделью стакана с водой:\n",
        "def is_glass(glass: dict) -> bool:\n",
        "    ...\n",
        " \n",
        " \n",
        "def add_water_to_glass(glass: dict, water: int) -> int:\n",
        "    ...\n",
        " \n",
        " \n",
        "def remove_water_from_glass(glass: dict, estimate_water: int) -> int:\n",
        "    ...\n",
        "\n",
        "# данные и функции\n",
        "glass = {\n",
        "    'capacity_volume': 500,\n",
        "    'occupied_volume': 0,\n",
        "    'is_glass': is_glass,  # функция проверки стакана\n",
        "    'add_water_to_glass': add_water_to_glass,  # функция добавления воды\n",
        "    'remove_water_from_glass': remove_water_from_glass,  # функция извлечения воды\n",
        "}\n",
        "```\n"
      ]
    },
    {
      "cell_type": "code",
      "metadata": {
        "colab": {
          "base_uri": "https://localhost:8080/"
        },
        "id": "tmFH3_tGRpsY",
        "outputId": "3c46b85d-99df-4c06-a1d9-0af29b183e19"
      },
      "source": [
        "# Теперь данные и функции определены совместно\n",
        "glass = {\n",
        "    'capacity_volume' : 500, \n",
        "    'occupied_volume' : 0,\n",
        "    'is_glass': is_glass,  # функция проверки стакана\n",
        "    'add_water_to_glass': add_water_to_glass,  # функция добавления воды\n",
        "    'remove_water_from_glass': remove_water_from_glass,  # функция извлечения воды\n",
        "}\n",
        "\n",
        "print(glass)"
      ],
      "execution_count": 27,
      "outputs": [
        {
          "output_type": "stream",
          "text": [
            "{'capacity_volume': 500, 'occupied_volume': 0, 'is_glass': <function is_glass at 0x7f44ea2dc0d0>, 'add_water_to_glass': <function add_water_to_glass at 0x7f44ea2dc048>, 'remove_water_from_glass': <function remove_water_from_glass at 0x7f44ea334268>}\n"
          ],
          "name": "stdout"
        }
      ]
    },
    {
      "cell_type": "code",
      "metadata": {
        "colab": {
          "base_uri": "https://localhost:8080/"
        },
        "id": "Z6xJKIEaT5c0",
        "outputId": "1fe6f785-2686-4e9e-902a-9076fa3b5ccf"
      },
      "source": [
        "# воспользуемся функцией добавления воды\n",
        "glass['add_water_to_glass'](glass, 50)\n",
        "\n",
        "print(glass)"
      ],
      "execution_count": 28,
      "outputs": [
        {
          "output_type": "stream",
          "text": [
            "{'capacity_volume': 500, 'occupied_volume': 50, 'is_glass': <function is_glass at 0x7f44ea2dc0d0>, 'add_water_to_glass': <function add_water_to_glass at 0x7f44ea2dc048>, 'remove_water_from_glass': <function remove_water_from_glass at 0x7f44ea334268>}\n"
          ],
          "name": "stdout"
        }
      ]
    },
    {
      "cell_type": "markdown",
      "metadata": {
        "id": "SqZLxD4VYDF9"
      },
      "source": [
        "#### Альтернативное решение с помощью замыкания функций"
      ]
    },
    {
      "cell_type": "markdown",
      "metadata": {
        "id": "5ft_QbyR76dK"
      },
      "source": [
        "```python\n",
        "def init(capacity_volume: int, occupied_volume: int) -> dict:\n",
        "    \n",
        "    def is_glass(glass: dict) -> bool:\n",
        "        ...\n",
        "\n",
        "    def add_water_to_glass(glass: dict, water: int) -> int:\n",
        "        ...\n",
        "\n",
        "    def remove_water_from_glass(glass: dict, estimate_water: int) -> int:\n",
        "        ...\n",
        "\n",
        "    return {\n",
        "        'capacity_volume': capacity_volume,\n",
        "        'occupied_volume': occupied_volume,\n",
        "        'is_glass': is_glass,  # функция проверки стакана\n",
        "        'add_water_to_glass': add_water_to_glass,  # функция добавления воды\n",
        "        'remove_water_from_glass': remove_water_from_glass,  # функция извлечения воды\n",
        "    }\n",
        "```"
      ]
    },
    {
      "cell_type": "markdown",
      "metadata": {
        "id": "Ffh9ekP97xGn"
      },
      "source": [
        "Теперь все необходимые функции соотнесены с объектом.  \n",
        "Но проблема в том, что функции `is_glass`, `add_water_to_glass`, `remove_water_from_glass` будут занова создаваться при каждой инициализации стакана...(("
      ]
    },
    {
      "cell_type": "markdown",
      "metadata": {
        "id": "il9CJpmpUtYc"
      },
      "source": [
        "#### Вывод"
      ]
    },
    {
      "cell_type": "markdown",
      "metadata": {
        "id": "z7eIIWH0UcLd"
      },
      "source": [
        "По итогу мы имеет следующую картину:\n",
        "1. Необходимо явно передавать объект \"Стакан\"\n",
        "  ```python\n",
        "  glass['is_glass'](glass)\n",
        "  ```\n",
        "2. Можно передать объект \"Нестакан\"\n",
        "3. Требуется в каждой функции проверять тип\n",
        "переменной `glass`\n",
        "  ```python\n",
        "  glass['add_water_to_glass']\n",
        "  ```\n",
        "4. Нет строгой привязки исходного кода к логике работы\n",
        "5. Синтаксис..."
      ]
    },
    {
      "cell_type": "markdown",
      "metadata": {
        "id": "ylVKqZWr9bMR"
      },
      "source": [
        "### Объектно-ориентированный подход"
      ]
    },
    {
      "cell_type": "markdown",
      "metadata": {
        "id": "rrsHmwrr9zkL"
      },
      "source": [
        "**Объектно-ориентированное программирование** - это парадигма программирования, основанная на совместном описании данных и операций, оперирующих с этими данными."
      ]
    },
    {
      "cell_type": "markdown",
      "metadata": {
        "id": "Umm5ihegCy3q"
      },
      "source": [
        "> Попробуем написать код, думая о его ремонтопригодности, а не только о том, чтобы он «работал!».  \n",
        "Код, который поймёт и сможет поддерживать любой (разумеется любой, кто знаком с программированием)\n",
        "\n"
      ]
    },
    {
      "cell_type": "markdown",
      "metadata": {
        "id": "gzCfCBsbD-rK"
      },
      "source": [
        "Совместное описание данных и операций можно делать в Python с помощью словарей, но, конечно, необходимо использовать объектно-ориентированный синтаксис."
      ]
    },
    {
      "cell_type": "markdown",
      "metadata": {
        "id": "jHyIGvWcEA_E"
      },
      "source": [
        "Вместо этого:\n",
        "```python\n",
        "# Функции, оперирующие с моделью стакана с водой:\n",
        "def is_glass(glass: dict) -> bool:\n",
        "    ...\n",
        " \n",
        " \n",
        "def add_water_to_glass(glass: dict, water: int) -> int:\n",
        "    ...\n",
        " \n",
        " \n",
        "def remove_water_from_glass(glass: dict, estimate_water: int) -> int:\n",
        "    ...\n",
        "\n",
        "# данные и функции\n",
        "glass = {\n",
        "    'capacity_volume': 500,\n",
        "    'occupied_volume': 0,\n",
        "    'is_glass': is_glass,  # функция проверки стакана\n",
        "    'add_water_to_glass': add_water_to_glass,  # функция добавления воды\n",
        "    'remove_water_from_glass': remove_water_from_glass,  # функция извлечения воды\n",
        "}\n",
        "```"
      ]
    },
    {
      "cell_type": "markdown",
      "metadata": {
        "id": "wyi9v_taEJz2"
      },
      "source": [
        "Следует использовать следующий синтаксис:\n",
        "```python\n",
        "class Glass:\n",
        "    def __init__(self, capacity_volume: int, occupied_volume: int):\n",
        "        self.capacity_volume = capacity_volume\n",
        "        self.occupied_volume = occupied_volume\n",
        "\n",
        "    def is_glass(self) -> bool:\n",
        "        ...\n",
        "\n",
        "    def add_water_to_glass(self, water: int) -> int:\n",
        "        ...\n",
        "\n",
        "    def remove_water_from_glass(self, estimate_water: int) -> int:\n",
        "        ...\n",
        "```"
      ]
    },
    {
      "cell_type": "markdown",
      "metadata": {
        "id": "-dXTsFq_FGHp"
      },
      "source": [
        "Теперь данные и функции определены совместно."
      ]
    },
    {
      "cell_type": "markdown",
      "metadata": {
        "id": "EZKPtF5eHPNm"
      },
      "source": [
        "#### Понятие класса и объекта"
      ]
    },
    {
      "cell_type": "markdown",
      "metadata": {
        "id": "PP88TiU1JQMU"
      },
      "source": [
        "Класс - это **чертеж**, по которому в дальнейшем создаются изделия.  \n",
        "Чертёж описывает создаваемое изделие, т.е. его характеристики, размеры, параметры, ...\n",
        "![Чертеж стакана](http://club.berkovich-zametki.com/wp-content/uploads/2018/03/V.2-3.jpg)"
      ]
    },
    {
      "cell_type": "markdown",
      "metadata": {
        "id": "IRsZ-dlXKCKN"
      },
      "source": [
        "Объект - готовое изделие, выполненное по данному чертежу.\n",
        "\n",
        "![](https://www.oma.by/upload/Sh/imageCache/bbc/48b/584a82c2baa5fc497b1b12726c086338.jpg) ![](https://www.oma.by/upload/Sh/imageCache/bbc/48b/584a82c2baa5fc497b1b12726c086338.jpg)\n",
        "\n",
        "Чертеж - один, изделий - много"
      ]
    },
    {
      "cell_type": "markdown",
      "metadata": {
        "id": "ngx1B6JPKWKT"
      },
      "source": [
        "|        |                   |         |\n",
        "|:------:|:-----------------:|---------|\n",
        "| Класс  | Class             | Чертеж  |\n",
        "| Объект (экземпляр) | Object (instance) | Изделие |\n"
      ]
    },
    {
      "cell_type": "markdown",
      "metadata": {
        "id": "J00nvgFUHtNd"
      },
      "source": [
        "**Класс** (англ. class) - это тип с описанием переменных, свойств и методов."
      ]
    },
    {
      "cell_type": "markdown",
      "metadata": {
        "id": "sCuCuUXCMHcI"
      },
      "source": [
        "#### Создание класса"
      ]
    },
    {
      "cell_type": "markdown",
      "metadata": {
        "id": "FrYFwbofFyC7"
      },
      "source": [
        "```python\n",
        "class Glass:\n",
        "    ...\n",
        "```\n",
        "* Ключевое слово **`class`**.  \n",
        "Данное ключевое слово указывает интерпретатору Python, что далее следует определение класса, а не функции.\n",
        "*  Имя класса `Glass`.  \n",
        "Разработчик может выбрать любое имя."
      ]
    },
    {
      "cell_type": "markdown",
      "metadata": {
        "id": "pZ3M-hdJMzkY"
      },
      "source": [
        "Определение класса - описание внутренних переменных, которые называются атрибутами, и функций, которые называются методами."
      ]
    },
    {
      "cell_type": "markdown",
      "metadata": {
        "id": "Ma2qj9UhNhSC"
      },
      "source": [
        "***Методы***\n",
        "```python\n",
        "str_ = \"string\"\n",
        "str_.split()  # split - метод строки\n",
        "\n",
        "list_ = [1, 5, 3, 7]\n",
        "list_.sort()  # sort - метод списка\n",
        "```"
      ]
    },
    {
      "cell_type": "markdown",
      "metadata": {
        "id": "B6tTBIaUW6rI"
      },
      "source": [
        "***Атрибуты*** \n",
        "```python\n",
        "def func():\n",
        "    ...\n",
        "\n",
        "func.attr = 1  # attr - атрибут функции\n",
        "```"
      ]
    },
    {
      "cell_type": "markdown",
      "metadata": {
        "id": "H_G5IhXFXZ8u"
      },
      "source": [
        "***Атрибуты и методы `Glass`***\n",
        "```python\n",
        "class Glass:\n",
        "    def __init__(self, capacity_volume: int, occupied_volume: int):\n",
        "        self.capacity_volume = capacity_volume  # self.capacity_volume атрибут\n",
        "        self.occupied_volume = occupied_volume  # self.occupied_volume атрибут\n",
        "\n",
        "    # is_glass метод\n",
        "    def is_glass(self) -> bool:  \n",
        "        ...\n",
        "\n",
        "    # add_water_to_glass метод\n",
        "    def add_water_to_glass(self, water: int) -> int:  \n",
        "        ...\n",
        "\n",
        "    # remove_water_from_glass метод\n",
        "    def remove_water_from_glass(self, estimate_water: int) -> int:  \n",
        "        ...\n",
        "```"
      ]
    },
    {
      "cell_type": "markdown",
      "metadata": {
        "id": "ZRigZa-oYTIz"
      },
      "source": [
        "#### Создание экземпляра класса"
      ]
    },
    {
      "cell_type": "markdown",
      "metadata": {
        "id": "GOG4bakusCIj"
      },
      "source": [
        "За создание экземпляра класса (его инициализацию) отвечает специальный метод `__init__`.  \n",
        "Данный метод предназначен для инициализации объекта (экземпляра класса) данного класса. Он подготавливает созданный объект к использованию."
      ]
    },
    {
      "cell_type": "code",
      "metadata": {
        "id": "0a6v4xvhsziQ"
      },
      "source": [
        "class Glass:\n",
        "    def __init__(self):\n",
        "        self.capacity_volume = 500\n",
        "        self.occupied_volume = 0"
      ],
      "execution_count": 29,
      "outputs": []
    },
    {
      "cell_type": "markdown",
      "metadata": {
        "id": "7Oh026oxttx3"
      },
      "source": [
        "Чтобы создать экземпляр класса, нужно после названия класса указать круглые скобки\n",
        "```python\n",
        "Glass()\n",
        "```\n",
        "Всё по аналогии с вызовом функции\n"
      ]
    },
    {
      "cell_type": "code",
      "metadata": {
        "id": "eTeF3YhxtEQE"
      },
      "source": [
        "# Объекты класса Glass, готовые к использованию\n",
        "\n",
        "glass_1 = Glass()  # созданный экземпляр класса Glass\n",
        "glass_2 = Glass()  # второй созданный экземпляр класса Glass"
      ],
      "execution_count": 30,
      "outputs": []
    },
    {
      "cell_type": "markdown",
      "metadata": {
        "id": "zdQft_EK61eR"
      },
      "source": [
        "***Аналогия с производством***\n",
        "![PY200_OOP_Class-2.png](data:image/png;base64,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)"
      ]
    },
    {
      "cell_type": "markdown",
      "metadata": {
        "id": "_4aw7idv2r3d"
      },
      "source": [
        "Для изготовления детали необходимо получить болванку, выполнить определенные технологические операции для изготовления детали."
      ]
    },
    {
      "cell_type": "markdown",
      "metadata": {
        "id": "AwEJ4IU_7HqB"
      },
      "source": [
        "Для создания объекта интерпретатор Python выделяет память под объект и вызывает специальный метод `__init__`.  \n",
        "В этом методе разработчик описывает все действия, которые необходимы для создания объекта.  \n",
        "В качестве \"болванки\" выступает специальная переменная `self` в методе `__init__`."
      ]
    },
    {
      "cell_type": "markdown",
      "metadata": {
        "id": "sUa6bFHP8C1h"
      },
      "source": [
        "#### Выводы"
      ]
    },
    {
      "cell_type": "markdown",
      "metadata": {
        "id": "6iP4PC4W7Vky"
      },
      "source": [
        "1. Класс - это тип с описанием  **атрибутов** (внутренних переменных) и **методов** (внутренних функций)\n",
        "2. Метод `__init__` не должен возвращать никакой результат.\n",
        "3. Разработчик не передаёт переменную `self` при создании объекта.\n",
        "4. Экземпляр класса или объект - это представление в памяти конкретного класса с его атрибутами и методами, сконфигурированного по описанию, заложенному в классе.\n",
        "\n"
      ]
    },
    {
      "cell_type": "markdown",
      "metadata": {
        "id": "70k21orUhwNw"
      },
      "source": [
        "### Атрибуты и методы объекта"
      ]
    },
    {
      "cell_type": "markdown",
      "metadata": {
        "id": "10UDfQ5IicFm"
      },
      "source": [
        "Доступ к атрибутам и методам экземпляра класса осуществляется по следующему синтаксису:\n",
        "```python\n",
        "instance.attr - для атрибута\n",
        "instance.method() - для методов\n",
        "```"
      ]
    },
    {
      "cell_type": "code",
      "metadata": {
        "id": "3PIMCt7Xi9hZ"
      },
      "source": [
        "# Создание класса с атрибутами\n",
        "class Test:\n",
        "    def __init__(self):\n",
        "        self.attr1 = 5  # атрибут\n",
        "        attr2 = 10  #  локальная переменная метода __init__\n",
        "\n",
        "    def method_print_attr1(self):\n",
        "        print(self.attr1)\n",
        "\n",
        "    def method_print_attr2(self):\n",
        "        print(attr2)"
      ],
      "execution_count": 39,
      "outputs": []
    },
    {
      "cell_type": "code",
      "metadata": {
        "colab": {
          "base_uri": "https://localhost:8080/"
        },
        "id": "YBIqn8YkUtRk",
        "outputId": "0ae8db67-eb55-4be7-c6e7-8f0e996af861"
      },
      "source": [
        "instance = Test()\n",
        "print(instance.attr1)"
      ],
      "execution_count": 40,
      "outputs": [
        {
          "output_type": "stream",
          "text": [
            "5\n"
          ],
          "name": "stdout"
        }
      ]
    },
    {
      "cell_type": "code",
      "metadata": {
        "colab": {
          "base_uri": "https://localhost:8080/"
        },
        "id": "nS7EWdIUVE4h",
        "outputId": "7869f833-9108-4242-b7bf-1598e0c71df5"
      },
      "source": [
        "instance.method_print_attr1"
      ],
      "execution_count": 34,
      "outputs": [
        {
          "output_type": "execute_result",
          "data": {
            "text/plain": [
              "<bound method Test.method_print_attr1 of <__main__.Test object at 0x7f44ea2d61d0>>"
            ]
          },
          "metadata": {
            "tags": []
          },
          "execution_count": 34
        }
      ]
    },
    {
      "cell_type": "code",
      "metadata": {
        "colab": {
          "base_uri": "https://localhost:8080/"
        },
        "id": "3tY0si8NU8Qc",
        "outputId": "99d0ce19-b1f7-4fe7-82b9-ca2511ff5ca5"
      },
      "source": [
        "instance.method_print_attr1()"
      ],
      "execution_count": 35,
      "outputs": [
        {
          "output_type": "stream",
          "text": [
            "5\n"
          ],
          "name": "stdout"
        }
      ]
    },
    {
      "cell_type": "code",
      "metadata": {
        "colab": {
          "base_uri": "https://localhost:8080/",
          "height": 249
        },
        "id": "28VQw7raVW1E",
        "outputId": "dd069081-8973-4184-ca4c-b7b5c6bd0a3f"
      },
      "source": [
        "instance.method_print_attr2()"
      ],
      "execution_count": 41,
      "outputs": [
        {
          "output_type": "error",
          "ename": "NameError",
          "evalue": "ignored",
          "traceback": [
            "\u001b[0;31m---------------------------------------------------------------------------\u001b[0m",
            "\u001b[0;31mNameError\u001b[0m                                 Traceback (most recent call last)",
            "\u001b[0;32m<ipython-input-41-86ef53a392a2>\u001b[0m in \u001b[0;36m<module>\u001b[0;34m()\u001b[0m\n\u001b[0;32m----> 1\u001b[0;31m \u001b[0minstance\u001b[0m\u001b[0;34m.\u001b[0m\u001b[0mmethod_print_attr2\u001b[0m\u001b[0;34m(\u001b[0m\u001b[0;34m)\u001b[0m\u001b[0;34m\u001b[0m\u001b[0;34m\u001b[0m\u001b[0m\n\u001b[0m",
            "\u001b[0;32m<ipython-input-39-098ff995716b>\u001b[0m in \u001b[0;36mmethod_print_attr2\u001b[0;34m(self)\u001b[0m\n\u001b[1;32m      9\u001b[0m \u001b[0;34m\u001b[0m\u001b[0m\n\u001b[1;32m     10\u001b[0m     \u001b[0;32mdef\u001b[0m \u001b[0mmethod_print_attr2\u001b[0m\u001b[0;34m(\u001b[0m\u001b[0mself\u001b[0m\u001b[0;34m)\u001b[0m\u001b[0;34m:\u001b[0m\u001b[0;34m\u001b[0m\u001b[0;34m\u001b[0m\u001b[0m\n\u001b[0;32m---> 11\u001b[0;31m         \u001b[0mprint\u001b[0m\u001b[0;34m(\u001b[0m\u001b[0mattr2\u001b[0m\u001b[0;34m)\u001b[0m\u001b[0;34m\u001b[0m\u001b[0;34m\u001b[0m\u001b[0m\n\u001b[0m",
            "\u001b[0;31mNameError\u001b[0m: name 'attr2' is not defined"
          ]
        }
      ]
    },
    {
      "cell_type": "markdown",
      "metadata": {
        "id": "XGlcjHTPiErB"
      },
      "source": [
        "Чем плох данный подход инициализации объкта?"
      ]
    },
    {
      "cell_type": "markdown",
      "metadata": {
        "id": "FU-iXop3nf8m"
      },
      "source": [
        "Вернемся к стакану\n",
        "\n",
        "```python\n",
        "class Glass:\n",
        "    def __init__(self):  # Подготовка созданного объекта к использованию\n",
        "        self.capacity_volume = 500\n",
        "        self.occupied_volume = 0\n",
        "\n",
        "glass_1 = Glass()\n",
        "glass_2 = Glass()\n",
        "glass_3 = Glass()\n",
        "```"
      ]
    },
    {
      "cell_type": "markdown",
      "metadata": {
        "id": "6LoHaQrkoQNT"
      },
      "source": [
        "![PY200_link_instance.png](data:image/png;base64,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)"
      ]
    },
    {
      "cell_type": "markdown",
      "metadata": {
        "id": "BsCRH9DQomDh"
      },
      "source": [
        "![PY200_class_instance_memory-2.png](data:image/png;base64,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)"
      ]
    },
    {
      "cell_type": "markdown",
      "metadata": {
        "id": "uFHMkDzl-C5F"
      },
      "source": [
        "#### Методы экземпляра класса"
      ]
    },
    {
      "cell_type": "markdown",
      "metadata": {
        "id": "O4ImBJaj-PMq"
      },
      "source": [
        "Давайте чуть глубже разберемся с переменной `self`. Напишем метод, который будет возвращать адрес переменной `self`.  \n",
        "Для этого воспользуемся функцией встроенной функцией `id` и `hex`."
      ]
    },
    {
      "cell_type": "markdown",
      "metadata": {
        "id": "GS4jbOq3-yrq"
      },
      "source": [
        "[Функция id](https://docs.python.org/3/library/functions.html#id)\n",
        "```python\n",
        "id(object)\n",
        "```\n",
        "Возвращает идентификатор объекта. Это целое число, которое гарантированно будет уникальным и неизменным для этого объекта в течение его времени жизни. \n",
        "Два объекта с непересекающимся временем жизни могут иметь одинаковое значение идентификатора.\n",
        "\n",
        "Детали реализации CPython: это адрес объекта в памяти."
      ]
    },
    {
      "cell_type": "code",
      "metadata": {
        "colab": {
          "base_uri": "https://localhost:8080/"
        },
        "id": "tudj2F0RB3in",
        "outputId": "64e1a49e-be2b-4c63-a604-04c9a0903c5f"
      },
      "source": [
        "print(id(5))"
      ],
      "execution_count": null,
      "outputs": [
        {
          "output_type": "stream",
          "text": [
            "10914624\n"
          ],
          "name": "stdout"
        }
      ]
    },
    {
      "cell_type": "markdown",
      "metadata": {
        "id": "tjatXu5lBGcA"
      },
      "source": [
        "[Функция hex](https://docs.python.org/3/library/functions.html#hex)  \n",
        "```python\n",
        "hex(x)\n",
        "```\n",
        "Конвертирует число целое число в шестадцатиричный формат записи\n",
        "\n"
      ]
    },
    {
      "cell_type": "code",
      "metadata": {
        "colab": {
          "base_uri": "https://localhost:8080/"
        },
        "id": "4FMnryPhBvZC",
        "outputId": "c4509c3a-6ca0-42ba-c8f1-a4bddbda8f04"
      },
      "source": [
        "print(hex(255))"
      ],
      "execution_count": null,
      "outputs": [
        {
          "output_type": "stream",
          "text": [
            "0xff\n"
          ],
          "name": "stdout"
        }
      ]
    },
    {
      "cell_type": "code",
      "metadata": {
        "id": "2g9MSrHfCCMI"
      },
      "source": [
        "class Glass:\n",
        "    def get_id(self):  # метод экземпляра класса\n",
        "        return hex(id(self))"
      ],
      "execution_count": 47,
      "outputs": []
    },
    {
      "cell_type": "code",
      "metadata": {
        "colab": {
          "base_uri": "https://localhost:8080/"
        },
        "id": "PBU49SbgdX9h",
        "outputId": "7df30940-69e3-40f6-e51b-170320f78141"
      },
      "source": [
        "glass_1 = Glass()\n",
        "print(glass_1.get_id())"
      ],
      "execution_count": 48,
      "outputs": [
        {
          "output_type": "stream",
          "text": [
            "0x7f44ea331128\n"
          ],
          "name": "stdout"
        }
      ]
    },
    {
      "cell_type": "code",
      "metadata": {
        "colab": {
          "base_uri": "https://localhost:8080/",
          "height": 37
        },
        "id": "xitmQXKudx0l",
        "outputId": "d3cebd70-8d0f-4aad-b0b1-bb36da6b90b2"
      },
      "source": [
        "hex(id(glass_1))"
      ],
      "execution_count": 49,
      "outputs": [
        {
          "output_type": "execute_result",
          "data": {
            "application/vnd.google.colaboratory.intrinsic+json": {
              "type": "string"
            },
            "text/plain": [
              "'0x7f44ea331128'"
            ]
          },
          "metadata": {
            "tags": []
          },
          "execution_count": 49
        }
      ]
    },
    {
      "cell_type": "code",
      "metadata": {
        "colab": {
          "base_uri": "https://localhost:8080/"
        },
        "id": "LsHvkQ2Ud3uF",
        "outputId": "9dab75ea-1a36-44d5-8fd1-66806f503d7a"
      },
      "source": [
        "hex(id(glass_1)) == glass_1.get_id()"
      ],
      "execution_count": 50,
      "outputs": [
        {
          "output_type": "execute_result",
          "data": {
            "text/plain": [
              "True"
            ]
          },
          "metadata": {
            "tags": []
          },
          "execution_count": 50
        }
      ]
    },
    {
      "cell_type": "code",
      "metadata": {
        "colab": {
          "base_uri": "https://localhost:8080/"
        },
        "id": "4U1YETbFd96j",
        "outputId": "c2f59f12-c027-4084-d474-8cbc3f76759d"
      },
      "source": [
        "glass_2 = Glass()\n",
        "hex(id(glass_2)) == glass_2.get_id()"
      ],
      "execution_count": 52,
      "outputs": [
        {
          "output_type": "execute_result",
          "data": {
            "text/plain": [
              "True"
            ]
          },
          "metadata": {
            "tags": []
          },
          "execution_count": 52
        }
      ]
    },
    {
      "cell_type": "code",
      "metadata": {
        "colab": {
          "base_uri": "https://localhost:8080/"
        },
        "id": "ke4EfIDreFGa",
        "outputId": "e3576cc8-8d1e-4748-a188-309ef85b28ed"
      },
      "source": [
        "glass_2.get_id() == glass_1.get_id()"
      ],
      "execution_count": 53,
      "outputs": [
        {
          "output_type": "execute_result",
          "data": {
            "text/plain": [
              "False"
            ]
          },
          "metadata": {
            "tags": []
          },
          "execution_count": 53
        }
      ]
    },
    {
      "cell_type": "code",
      "metadata": {
        "colab": {
          "base_uri": "https://localhost:8080/"
        },
        "id": "TTNRMtJ_eKEi",
        "outputId": "781649c4-46fa-4d5e-c35c-33464a1cbc0b"
      },
      "source": [
        "glass_1 is glass_2"
      ],
      "execution_count": 54,
      "outputs": [
        {
          "output_type": "execute_result",
          "data": {
            "text/plain": [
              "False"
            ]
          },
          "metadata": {
            "tags": []
          },
          "execution_count": 54
        }
      ]
    },
    {
      "cell_type": "markdown",
      "metadata": {
        "id": "fbrPXWPXCcB0"
      },
      "source": [
        "Если заметить `self` на другое название переменной,\n",
        "то ничего не поменяется.  \n",
        "`self` - это просто **соглашение** об именовании переменных в Python"
      ]
    },
    {
      "cell_type": "markdown",
      "metadata": {
        "id": "fmwNpPATCoRk"
      },
      "source": [
        "Интерпретатору Python абсолютно неважно как называется первая переменная в методе, потому что он её передаёт в качестве аргумента функции.  \n",
        "А как известно, параметры функции выбирает программист."
      ]
    },
    {
      "cell_type": "code",
      "metadata": {
        "colab": {
          "base_uri": "https://localhost:8080/"
        },
        "id": "IBUC5myLery0",
        "outputId": "49d4f244-071a-41e2-f987-316176173184"
      },
      "source": [
        "class Glass:\n",
        "    def __init__(self):\n",
        "        self.occupied_volume = 0\n",
        "\n",
        "    def get_id(self):  # метод экземпляра класса\n",
        "        return hex(id(self))\n",
        "\n",
        "    def add_water(self, water: int) -> None:\n",
        "        self.occupied_volume += water\n",
        "\n",
        "\n",
        "glass = Glass()\n",
        "print(glass.occupied_volume)  # 0"
      ],
      "execution_count": 55,
      "outputs": [
        {
          "output_type": "stream",
          "text": [
            "0\n"
          ],
          "name": "stdout"
        }
      ]
    },
    {
      "cell_type": "code",
      "metadata": {
        "colab": {
          "base_uri": "https://localhost:8080/"
        },
        "id": "FFJpLCE3fuNs",
        "outputId": "e33ccfec-0e92-4272-fdc2-b3f5dbb9e168"
      },
      "source": [
        "glass.add_water(100)\n",
        "print(glass.occupied_volume)"
      ],
      "execution_count": 56,
      "outputs": [
        {
          "output_type": "stream",
          "text": [
            "100\n"
          ],
          "name": "stdout"
        }
      ]
    },
    {
      "cell_type": "code",
      "metadata": {
        "colab": {
          "base_uri": "https://localhost:8080/"
        },
        "id": "91pNQNn5f7Bz",
        "outputId": "9b37ac68-d894-430b-f80e-8fa4e41aa32f"
      },
      "source": [
        "glass_2 = Glass()\n",
        "print(glass_2.occupied_volume)  # 0\n",
        "\n",
        "glass_2.add_water(201)\n",
        "print(glass_2.occupied_volume)"
      ],
      "execution_count": 59,
      "outputs": [
        {
          "output_type": "stream",
          "text": [
            "0\n",
            "201\n"
          ],
          "name": "stdout"
        }
      ]
    },
    {
      "cell_type": "code",
      "metadata": {
        "colab": {
          "base_uri": "https://localhost:8080/"
        },
        "id": "7BhJ3AVrgL6r",
        "outputId": "7b3ecdee-7a1f-4b61-f8ab-746c4da151bd"
      },
      "source": [
        "print(glass.occupied_volume)\n",
        "print(glass_2.occupied_volume)"
      ],
      "execution_count": 60,
      "outputs": [
        {
          "output_type": "stream",
          "text": [
            "100\n",
            "201\n"
          ],
          "name": "stdout"
        }
      ]
    },
    {
      "cell_type": "code",
      "metadata": {
        "colab": {
          "base_uri": "https://localhost:8080/"
        },
        "id": "QJtX3GqIghh3",
        "outputId": "17ad659c-1aba-4211-cc97-72774f36a7ea"
      },
      "source": [
        "glass.occupied_volume = 1001\n",
        "print(glass.occupied_volume)"
      ],
      "execution_count": 61,
      "outputs": [
        {
          "output_type": "stream",
          "text": [
            "1001\n"
          ],
          "name": "stdout"
        }
      ]
    },
    {
      "cell_type": "markdown",
      "metadata": {
        "id": "6Zk-iNAL9w7i"
      },
      "source": [
        "#### Пользовательские атрибуты"
      ]
    },
    {
      "cell_type": "markdown",
      "metadata": {
        "id": "oysr-0HmGy9W"
      },
      "source": [
        "Атрибуты объекта можно условно разделить две группы:\n",
        "- определённые python-ом (такие как `__class__`, `__dict__`) \n",
        "- определённые пользователем, о них мы и будем говорить.  \n",
        "\n",
        "`__dict__` согласно этой классификации, относится к “системным” (определённым python-ом) атрибутам.  \n",
        "Его задача — хранить **пользовательские атрибуты**. Он представляет собой словарь, в котором:\n",
        "- ключом является имя_атрибута, \n",
        "- значением - значение_атрибута."
      ]
    },
    {
      "cell_type": "code",
      "metadata": {
        "id": "w7GmKWdFne1_"
      },
      "source": [
        "class Glass:\n",
        "    def __init__(self, capacity_volume: int, occupied_volume: int) -> None:\n",
        "        \"\"\"\n",
        "        \n",
        "        \"\"\"\n",
        "        print(self.get__dict__())\n",
        "\n",
        "        self.capacity_volume = capacity_volume\n",
        "        self.occupied_volume = occupied_volume\n",
        "\n",
        "        print(self.get__dict__())\n",
        "\n",
        "    def get__dict__(self):\n",
        "        \"\"\"Метод, возвращающий словарь пользовательских атрибутов\"\"\"\n",
        "        return self.__dict__\n",
        " "
      ],
      "execution_count": 85,
      "outputs": []
    },
    {
      "cell_type": "code",
      "metadata": {
        "id": "6cJTOKb4HvZr",
        "colab": {
          "base_uri": "https://localhost:8080/"
        },
        "outputId": "8187d682-b49c-482a-d228-805c97acc8f9"
      },
      "source": [
        "glass_1 = Glass(500, 100)\n",
        "# glass_2 = Glass(750, 50)"
      ],
      "execution_count": 86,
      "outputs": [
        {
          "output_type": "stream",
          "text": [
            "{}\n",
            "{'capacity_volume': 500, 'occupied_volume': 100}\n"
          ],
          "name": "stdout"
        }
      ]
    },
    {
      "cell_type": "code",
      "metadata": {
        "colab": {
          "base_uri": "https://localhost:8080/"
        },
        "id": "R3Y2CueJiOkH",
        "outputId": "426cc8c4-984c-48ab-a141-e768252676a4"
      },
      "source": [
        "print(glass_1.get__dict__())\n",
        "print(glass_2.get__dict__())"
      ],
      "execution_count": 80,
      "outputs": [
        {
          "output_type": "stream",
          "text": [
            "{'capacity_volume': 500, 'occupied_volume': 100}\n",
            "{'capacity_volume': 750, 'occupied_volume': 50}\n"
          ],
          "name": "stdout"
        }
      ]
    },
    {
      "cell_type": "code",
      "metadata": {
        "colab": {
          "base_uri": "https://localhost:8080/"
        },
        "id": "5B4N-6ddil17",
        "outputId": "0ca1366b-5043-4e27-e348-972ab66ee27d"
      },
      "source": [
        "print(glass_1.__dict__)\n",
        "print(glass_2.__dict__)"
      ],
      "execution_count": 81,
      "outputs": [
        {
          "output_type": "stream",
          "text": [
            "{'capacity_volume': 500, 'occupied_volume': 100}\n",
            "{'capacity_volume': 750, 'occupied_volume': 50}\n"
          ],
          "name": "stdout"
        }
      ]
    },
    {
      "cell_type": "code",
      "metadata": {
        "id": "pY_4hB-hH9qi",
        "colab": {
          "base_uri": "https://localhost:8080/"
        },
        "outputId": "75640609-4a17-4ce0-a38e-ff54597372ff"
      },
      "source": [
        "# задать атрибут \"на лету\"\n",
        "glass_1.occupied_volume = 1000\n",
        "glass_2.capacity_volume = 1\n",
        "\n",
        "print(glass_1.__dict__)\n",
        "print(glass_2.__dict__)"
      ],
      "execution_count": 82,
      "outputs": [
        {
          "output_type": "stream",
          "text": [
            "{'capacity_volume': 500, 'occupied_volume': 1000}\n",
            "{'capacity_volume': 1, 'occupied_volume': 50}\n"
          ],
          "name": "stdout"
        }
      ]
    },
    {
      "cell_type": "code",
      "metadata": {
        "colab": {
          "base_uri": "https://localhost:8080/"
        },
        "id": "uOgTKzErjE4W",
        "outputId": "a8948e91-a1d9-4c75-a8a8-e0c0fa66c788"
      },
      "source": [
        "glass_1.material = 'paper'\n",
        "glass_2.material2 = 'glass'\n",
        "\n",
        "print(glass_1.__dict__)\n",
        "print(glass_2.__dict__)"
      ],
      "execution_count": 77,
      "outputs": [
        {
          "output_type": "stream",
          "text": [
            "{'capacity_volume': 500, 'occupied_volume': 1000, 'material': 'paper'}\n",
            "{'capacity_volume': 1, 'occupied_volume': 50, 'material2': 'glass'}\n"
          ],
          "name": "stdout"
        }
      ]
    },
    {
      "cell_type": "code",
      "metadata": {
        "colab": {
          "base_uri": "https://localhost:8080/"
        },
        "id": "_1JFjSDclJ3u",
        "outputId": "90f2accd-22a2-4340-9396-aa83f79e4ed6"
      },
      "source": [
        "glass_1.__dict__['attr_from__dict__'] = \"Hello, World\"\n",
        "print(glass_1.get__dict__())"
      ],
      "execution_count": 87,
      "outputs": [
        {
          "output_type": "stream",
          "text": [
            "{'capacity_volume': 500, 'occupied_volume': 100, 'attr_from__dict__': 'Hello, World'}\n"
          ],
          "name": "stdout"
        }
      ]
    },
    {
      "cell_type": "code",
      "metadata": {
        "colab": {
          "base_uri": "https://localhost:8080/"
        },
        "id": "14TZif52lYw8",
        "outputId": "8876471f-813f-4de9-f630-df683a37c712"
      },
      "source": [
        "print(glass_1.attr_from__dict__)"
      ],
      "execution_count": 88,
      "outputs": [
        {
          "output_type": "stream",
          "text": [
            "Hello, World\n"
          ],
          "name": "stdout"
        }
      ]
    },
    {
      "cell_type": "markdown",
      "metadata": {
        "id": "FU6jrMamIh9c"
      },
      "source": [
        "#### Как правильно инициализировать атрибуты"
      ]
    },
    {
      "cell_type": "markdown",
      "metadata": {
        "id": "O0giurF6MyL3"
      },
      "source": [
        "Попробуем создать класс, описывающий стакан, и реализовать:\n",
        "- метод, который увеличивает количество воды в стакане\n",
        "- метод, который возвращает материал стакана"
      ]
    },
    {
      "cell_type": "code",
      "metadata": {
        "id": "jju5z2f8K5u-"
      },
      "source": [
        "class Glass:\n",
        "    def __init__(self, capacity_volume: [int, float] = 500, occupied_volume: [int, float] = 0):\n",
        "        if not isinstance(capacity_volume, (int, float)):\n",
        "            raise TypeError()\n",
        "        \n",
        "        if not capacity_volume > 0:\n",
        "            raise ValueError()\n",
        "\n",
        "        self.capacity_volume = capacity_volume  # объем\n",
        "        self.occupied_volume = occupied_volume  # количество жидкости\n",
        "\n",
        "    def add_water(self, water: [int, float]):\n",
        "        delta = self.capacity_volume - self.occupied_volume\n",
        "        if delta < water:\n",
        "            self.occupied_volume = self.capacity_volume\n",
        "            return water - delta\n",
        "        else:\n",
        "            self.occupied_volume = self.occupied_volume + water  # self.occupied_volume =+ water \n",
        "            return 0\n",
        "\n",
        "    def get_material(self) -> str:\n",
        "        return self.material\n",
        "\n",
        "    def set_material(self, material: str) -> None:\n",
        "        self.material = material"
      ],
      "execution_count": 99,
      "outputs": []
    },
    {
      "cell_type": "code",
      "metadata": {
        "colab": {
          "base_uri": "https://localhost:8080/"
        },
        "id": "-gNihBApptrS",
        "outputId": "938460b0-ee2d-4e2e-d591-6ea64f7eaf2e"
      },
      "source": [
        "glass = Glass(500, 0)\n",
        "glass.__dict__"
      ],
      "execution_count": 101,
      "outputs": [
        {
          "output_type": "execute_result",
          "data": {
            "text/plain": [
              "{'capacity_volume': 500, 'occupied_volume': 0}"
            ]
          },
          "metadata": {
            "tags": []
          },
          "execution_count": 101
        }
      ]
    },
    {
      "cell_type": "code",
      "metadata": {
        "colab": {
          "base_uri": "https://localhost:8080/",
          "height": 283
        },
        "id": "DVQq5CsXp6M8",
        "outputId": "5579cfb6-7ac8-432c-f243-bf2a8877e634"
      },
      "source": [
        "glass.get_material()"
      ],
      "execution_count": 102,
      "outputs": [
        {
          "output_type": "error",
          "ename": "AttributeError",
          "evalue": "ignored",
          "traceback": [
            "\u001b[0;31m---------------------------------------------------------------------------\u001b[0m",
            "\u001b[0;31mAttributeError\u001b[0m                            Traceback (most recent call last)",
            "\u001b[0;32m<ipython-input-102-a03e7ef2cb47>\u001b[0m in \u001b[0;36m<module>\u001b[0;34m()\u001b[0m\n\u001b[0;32m----> 1\u001b[0;31m \u001b[0mglass\u001b[0m\u001b[0;34m.\u001b[0m\u001b[0mget_material\u001b[0m\u001b[0;34m(\u001b[0m\u001b[0;34m)\u001b[0m\u001b[0;34m\u001b[0m\u001b[0;34m\u001b[0m\u001b[0m\n\u001b[0m",
            "\u001b[0;32m<ipython-input-99-da50027a1549>\u001b[0m in \u001b[0;36mget_material\u001b[0;34m(self)\u001b[0m\n\u001b[1;32m     20\u001b[0m \u001b[0;34m\u001b[0m\u001b[0m\n\u001b[1;32m     21\u001b[0m     \u001b[0;32mdef\u001b[0m \u001b[0mget_material\u001b[0m\u001b[0;34m(\u001b[0m\u001b[0mself\u001b[0m\u001b[0;34m)\u001b[0m \u001b[0;34m->\u001b[0m \u001b[0mstr\u001b[0m\u001b[0;34m:\u001b[0m\u001b[0;34m\u001b[0m\u001b[0;34m\u001b[0m\u001b[0m\n\u001b[0;32m---> 22\u001b[0;31m         \u001b[0;32mreturn\u001b[0m \u001b[0mself\u001b[0m\u001b[0;34m.\u001b[0m\u001b[0mmaterial\u001b[0m\u001b[0;34m\u001b[0m\u001b[0;34m\u001b[0m\u001b[0m\n\u001b[0m\u001b[1;32m     23\u001b[0m \u001b[0;34m\u001b[0m\u001b[0m\n\u001b[1;32m     24\u001b[0m     \u001b[0;32mdef\u001b[0m \u001b[0mset_material\u001b[0m\u001b[0;34m(\u001b[0m\u001b[0mself\u001b[0m\u001b[0;34m,\u001b[0m \u001b[0mmaterial\u001b[0m\u001b[0;34m:\u001b[0m \u001b[0mstr\u001b[0m\u001b[0;34m)\u001b[0m \u001b[0;34m->\u001b[0m \u001b[0;32mNone\u001b[0m\u001b[0;34m:\u001b[0m\u001b[0;34m\u001b[0m\u001b[0;34m\u001b[0m\u001b[0m\n",
            "\u001b[0;31mAttributeError\u001b[0m: 'Glass' object has no attribute 'material'"
          ]
        }
      ]
    },
    {
      "cell_type": "code",
      "metadata": {
        "colab": {
          "base_uri": "https://localhost:8080/"
        },
        "id": "SiQitpT7q6nW",
        "outputId": "729e7964-b0a2-4dcd-e747-f436d1a738a8"
      },
      "source": [
        "glass.set_material('test')\n",
        "print(glass.get_material())"
      ],
      "execution_count": 103,
      "outputs": [
        {
          "output_type": "stream",
          "text": [
            "test\n"
          ],
          "name": "stdout"
        }
      ]
    },
    {
      "cell_type": "markdown",
      "metadata": {
        "id": "54LUscRpNSP2"
      },
      "source": [
        "Способы создания атрибутов экземпляра:  \n",
        "***Плохо :(***\n",
        "```python\n",
        "class Glass:\n",
        "    def __init__(self):\n",
        "        self.capacity_volume = 500 \n",
        "        self.occupied_volume = 0\n",
        "\n",
        "    def init_value(self): \n",
        "        self.value = 100\n",
        "```\n",
        "\n",
        "***Хорошо :)***\n",
        "```python\n",
        "class Glass:\n",
        "    def __init__(self):\n",
        "        self.capacity_volume = 500 \n",
        "        self.occupied_volume = 0\n",
        "        self.value = 100\n",
        "```"
      ]
    },
    {
      "cell_type": "markdown",
      "metadata": {
        "id": "ycKZ29yjN5uG"
      },
      "source": [
        "Если требуется создавать множество атрибутов класса и различные атрибуты, а некоторые атрибуты можно логически объединить, то создание таких атрибутов выносят в отдельные методы, но эти методы ***обязательно*** вызывают в `__init__`.  \n",
        "\n",
        "***Если очень хочется, то можно ;)***\n",
        "```python\n",
        "class Glass:\n",
        "    def __init__(self):\n",
        "        self.init_volume() \n",
        "        self.init_occupied()\n",
        "\n",
        "    def init_capacity(self): \n",
        "        self.capacity_volume = 500\n",
        "\n",
        "    def init_occupied(self): \n",
        "        self.occupied_volume = 0\n",
        "```\n"
      ]
    },
    {
      "cell_type": "code",
      "metadata": {
        "id": "kKqCKZjZrcwP"
      },
      "source": [
        "class Glass:\n",
        "    \"\"\"Класс создания стакана\"\"\"\n",
        "    def __init__(self, capacity_volume: [int, float], occupied_volume: [int, float], material=None):\n",
        "        \"\"\"Init\"\"\"\n",
        "        self.init_capacity_volume(capacity_volume)\n",
        "        self.occupied_volume = occupied_volume  # количество жидкости\n",
        "        self.material = material\n",
        "\n",
        "    def add_water(self, water: [int, float]):\n",
        "        \"\"\"add_water\"\"\"\n",
        "        delta = self.capacity_volume - self.occupied_volume\n",
        "        if delta < water:\n",
        "            self.occupied_volume = self.capacity_volume\n",
        "            return water - delta\n",
        "        else:\n",
        "            self.occupied_volume = self.occupied_volume + water  # self.occupied_volume =+ water \n",
        "            return 0\n",
        "\n",
        "    def init_capacity_volume(self, capacity_volume: [int, float]):\n",
        "        \"\"\"init_capacity_volume\"\"\"\n",
        "        if not isinstance(capacity_volume, (int, float)):\n",
        "            raise TypeError()\n",
        "        \n",
        "        if not capacity_volume > 0:\n",
        "            raise ValueError()\n",
        "\n",
        "        self.capacity_volume = capacity_volume  # объем\n"
      ],
      "execution_count": 109,
      "outputs": []
    },
    {
      "cell_type": "code",
      "metadata": {
        "colab": {
          "base_uri": "https://localhost:8080/"
        },
        "id": "QztZEJCfushG",
        "outputId": "b0002d49-2f51-4d49-82e0-5ab5696547c5"
      },
      "source": [
        "help(Glass)"
      ],
      "execution_count": 111,
      "outputs": [
        {
          "output_type": "stream",
          "text": [
            "Help on class Glass in module __main__:\n",
            "\n",
            "class Glass(builtins.object)\n",
            " |  Methods defined here:\n",
            " |  \n",
            " |  __init__(self, capacity_volume:[<class 'int'>, <class 'float'>], occupied_volume:[<class 'int'>, <class 'float'>], material=None)\n",
            " |      Initialize self.  See help(type(self)) for accurate signature.\n",
            " |  \n",
            " |  add_water(self, water:[<class 'int'>, <class 'float'>])\n",
            " |  \n",
            " |  init_capacity_volume(self, capacity_volume:[<class 'int'>, <class 'float'>])\n",
            " |  \n",
            " |  ----------------------------------------------------------------------\n",
            " |  Data descriptors defined here:\n",
            " |  \n",
            " |  __dict__\n",
            " |      dictionary for instance variables (if defined)\n",
            " |  \n",
            " |  __weakref__\n",
            " |      list of weak references to the object (if defined)\n",
            "\n"
          ],
          "name": "stdout"
        }
      ]
    },
    {
      "cell_type": "code",
      "metadata": {
        "colab": {
          "base_uri": "https://localhost:8080/"
        },
        "id": "H82TUaqNstu2",
        "outputId": "4b6d5284-8f4a-4272-df40-d2b5f0759d08"
      },
      "source": [
        "glass = Glass(500, 0)\n",
        "glass.__dict__"
      ],
      "execution_count": 110,
      "outputs": [
        {
          "output_type": "execute_result",
          "data": {
            "text/plain": [
              "{'capacity_volume': 500, 'material': None, 'occupied_volume': 0}"
            ]
          },
          "metadata": {
            "tags": []
          },
          "execution_count": 110
        }
      ]
    },
    {
      "cell_type": "markdown",
      "metadata": {
        "id": "Wf-E_FBRQKRT"
      },
      "source": [
        "#### Выводы:  \n",
        "\n",
        "1. Переменная `self` является ссылкой на экземпляр данного класса. `self` - это просто соглашение об именовании переменных в Python\n",
        "2. Экземпляр класса, или объект (англ. instance) — это представление в памяти конкретного класса с переменными, свойствами и методами, сконструированного по описанию, заложенному в классе.\n",
        "3. Инициализация (англ. initialization) — присвоение начальных значений полям объекта. В Python за это отвечает специальный метод `__init__`.\n",
        "4. Метод `__init__` подготавливает объект класса к использованию. Определение всех атрибутов должно находиться в этом методе. Если атрибут отпределяется во внешнем методе, то внешний метод необходимо вызвать в `__init__`"
      ]
    },
    {
      "cell_type": "markdown",
      "metadata": {
        "id": "KZJUvgHTR4BL"
      },
      "source": [
        "###  Время жизни объекта"
      ]
    },
    {
      "cell_type": "markdown",
      "metadata": {
        "id": "WmMpxFP-qxfa"
      },
      "source": [
        "#### Конструктор объекта (`__init__`)"
      ]
    },
    {
      "cell_type": "markdown",
      "metadata": {
        "id": "yO7MThCVSHFU"
      },
      "source": [
        "Время жизни объекта - это время с момента создания объекта до его уничтожения.  \n",
        "Объект начинает существовать после успешного завершения `__init__`\n"
      ]
    },
    {
      "cell_type": "code",
      "metadata": {
        "id": "Nifl0VaCSGah"
      },
      "source": [
        "class Glass:\n",
        "    def __init__(self):\n",
        "        # верная инициализация"
      ],
      "execution_count": null,
      "outputs": []
    },
    {
      "cell_type": "markdown",
      "metadata": {
        "id": "pXTbgsaRpgam"
      },
      "source": [
        "Только в первом случае объект `glass` стал существовать.\n",
        "В остальных случаях объект не сконструирован (такими объектом пользоваться нельзя)."
      ]
    },
    {
      "cell_type": "markdown",
      "metadata": {
        "id": "othAixfVpsS0"
      },
      "source": [
        "***Вредные советы:***  \n",
        "Неверное проектирование `__init__`\n",
        "```python\n",
        "class Glass:\n",
        "    def __init__(self, capacity_volume):\n",
        "        if not isinstance(capacity_volume, (int, float)):\n",
        "            return\n",
        "        if capacity_volume < 0: \n",
        "            return\n",
        "        self.capacity_volume = capacity_volume\n",
        "```"
      ]
    },
    {
      "cell_type": "markdown",
      "metadata": {
        "id": "xdUE3UicqSvE"
      },
      "source": [
        "Пользовать класса не сможет определить успешность создания объекта, потому что `__init__` не бросает исключений."
      ]
    },
    {
      "cell_type": "markdown",
      "metadata": {
        "id": "1phLNQYaqdCR"
      },
      "source": [
        "От исключений в инициализаторе можно отказаться, если требуется реализовать \"ленивую\" инициализацию."
      ]
    },
    {
      "cell_type": "markdown",
      "metadata": {
        "id": "Hx2ElhfFrCP4"
      },
      "source": [
        "- В результате вызова `__init__` объект может быть создан или не создан.  \n",
        "- Пользователь Вашего класса определяет успешность создания объекта отсутствием исключений.  \n",
        "- Если при создании объекта НЕ было выброшено исключение, то объектом пользоваться можно.  \n",
        "- Если при создании объекта было выброшено исключение, то объектом пользоваться нельзя."
      ]
    },
    {
      "cell_type": "markdown",
      "metadata": {
        "id": "Njto1DZzt2cq"
      },
      "source": [
        "#### Деструктор объекта (`__del__`)"
      ]
    },
    {
      "cell_type": "markdown",
      "metadata": {
        "id": "pRuhtvq02Q3b"
      },
      "source": [
        "1. Переменные являются ссылками на объекты\n",
        "2. При присваивании одной переменной другой переменной просто увеличивается счётчик ссылок"
      ]
    },
    {
      "cell_type": "markdown",
      "metadata": {
        "id": "CgxjuFZi3p9H"
      },
      "source": [
        "![link_to_variable.png](data:image/png;base64,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)"
      ]
    },
    {
      "cell_type": "code",
      "metadata": {
        "colab": {
          "base_uri": "https://localhost:8080/"
        },
        "id": "uJilsUOT3yui",
        "outputId": "af4b73c7-1d5a-4c76-c31d-802a35943c5a"
      },
      "source": [
        "# Количество ссылок на переменную \n",
        "\n",
        "import sys\n",
        "a = [1, 2, 3]\n",
        "\n",
        "print(sys.getrefcount(a))"
      ],
      "execution_count": null,
      "outputs": [
        {
          "output_type": "stream",
          "text": [
            "2\n"
          ],
          "name": "stdout"
        }
      ]
    },
    {
      "cell_type": "markdown",
      "metadata": {
        "id": "E_yL_pAC4ctV"
      },
      "source": [
        "Почему 2? Ведь переменная `a` объявлена всего один раз"
      ]
    },
    {
      "cell_type": "markdown",
      "metadata": {
        "id": "p4BwpXId4omS"
      },
      "source": [
        "Если обратиться к документации ([sys.getrefcount](https://docs.python.org/3/library/sys.html#sys.getrefcount))\n",
        "\n",
        "> Возвращает счетчик ссылок объекта. Возвращаемое количество обычно на единицу больше, чем вы могли ожидать, потому что он включает (временную) ссылку в качестве аргумента для getrefcount().\n",
        "\n",
        "\n",
        "\n"
      ]
    },
    {
      "cell_type": "markdown",
      "metadata": {
        "id": "bJM1fSqC6NtD"
      },
      "source": [
        "Деструкция или уничтожение объекта в Python не регламентирована для разработчика, т.е. разработчик **не может вручную удалить объект**  \n",
        "Разработчик **может лишь удалить ссылку на объект**, но уничтожение объекта будет выполнено сборщиком мусора."
      ]
    },
    {
      "cell_type": "markdown",
      "metadata": {
        "id": "bOITEBtd6vZb"
      },
      "source": [
        "Деструктор определен в методе `__del__` (антипод конструктора `__init__`. И есть втроенный оператор `del`\n",
        "\n"
      ]
    },
    {
      "cell_type": "code",
      "metadata": {
        "colab": {
          "base_uri": "https://localhost:8080/"
        },
        "id": "HVQlt6f-5PeE",
        "outputId": "b28749c8-41d1-4f1f-fe23-ef272472f0de"
      },
      "source": [
        ""
      ],
      "execution_count": null,
      "outputs": [
        {
          "output_type": "stream",
          "text": [
            "3\n"
          ],
          "name": "stdout"
        }
      ]
    },
    {
      "cell_type": "markdown",
      "metadata": {
        "id": "h6MIgBuJ81Rw"
      },
      "source": [
        "#### Маленькие хитрости при работе интерпретатора"
      ]
    },
    {
      "cell_type": "code",
      "metadata": {
        "id": "xuE5E_7E9eJJ"
      },
      "source": [
        "# Создать объекта с атрибутами\n"
      ],
      "execution_count": null,
      "outputs": []
    },
    {
      "cell_type": "markdown",
      "metadata": {
        "id": "t138oP-s8_o9"
      },
      "source": [
        "CPython (интерпретатор написанный на C) хранит **глобальный список** всех целых чисел в диапазоне [-5, 256].  \n",
        "Это также означает, что интерпретатор предварительно выделяет для всех этих целых чисел, даже если вы не используете большинство из них."
      ]
    }
  ]
}